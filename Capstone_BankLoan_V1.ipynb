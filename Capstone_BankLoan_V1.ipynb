{
 "cells": [
  {
   "cell_type": "code",
   "execution_count": 1,
   "metadata": {},
   "outputs": [],
   "source": [
    "#importing Spark Session\n",
    "from pyspark.sql import SparkSession\n",
    "\n",
    "#importing Spark SQL datatype\n",
    "import pyspark.sql.types as tp    \n",
    "\n",
    "import findspark\n",
    "\n",
    "findspark.init(\"/opt/cloudera/parcels/CDH-6.2.1-1.cdh6.2.1.p0.1425774/lib/spark\")\n",
    "\n",
    "import pyspark\n",
    "\n",
    "sc = pyspark.SparkContext()\n",
    "\n",
    "from pyspark.sql import SparkSession\n",
    "\n",
    "spark = SparkSession.builder.getOrCreate()"
   ]
  },
  {
   "cell_type": "markdown",
   "metadata": {},
   "source": [
    "#### load the data from Hive"
   ]
  },
  {
   "cell_type": "code",
   "execution_count": 2,
   "metadata": {},
   "outputs": [],
   "source": [
    "Loan_Details=spark.read.csv(\"/user/tswdsml6user016/CapStone_BankLoan/loandetails.tsv\",sep=\"\\t\", inferSchema=True,header=True)"
   ]
  },
  {
   "cell_type": "code",
   "execution_count": 3,
   "metadata": {},
   "outputs": [],
   "source": [
    "Action_Records=spark.read.csv(\"/user/tswdsml6user016/CapStone_BankLoan/actionrecords.tsv\",sep=\"\\t\", inferSchema=True,header=True)\n",
    "Pending_Status=spark.read.csv(\"/user/tswdsml6user016/CapStone_BankLoan/pendingstatus.tsv\",sep=\"\\t\", inferSchema=True,header=True)"
   ]
  },
  {
   "cell_type": "code",
   "execution_count": 4,
   "metadata": {},
   "outputs": [
    {
     "name": "stdout",
     "output_type": "stream",
     "text": [
      "+--------------+----------+--------+-------------------+-------------+-----------+--------+------------+------------+-------------+----------------+---------------+-----------+-----------+-------------+---------+-------------+----------+----------+-------+--------------+-----------------+-------------+-------------+------------------+-----------+------------+--------+-------------+--------------+-------+---+----+---+----+--------+--------+---------+--------+----------+-----------------------+------------+----------------+----------+-------------+---------------+--------------+--------------------+--------+-----------+---------+-------------+------------------+---------+--------------------+---------------+-----+------+---------+---------+---------+---------+---------+--------+--------+---------+--------+--------------+------------+-------------+--------+---------+-------+----------+----------+--------+---------------+----------+-------------+-----------------+---------------+--------+----------+------------------+----------+-----------+-----------+--------------+-------------+---+--------------+--------------+------------------+---------------+------------------+--------------------+--------------------+----------+-------+-------------------+-----------+\n",
      "|       cust_id|cust_title|capacity|father_relationship|is_prop_owner|rel_to_borr|group_no|origin_place|source_place|origin_branch|place_of_service|         status|origin_mode|agency_code| channel_type|emp_class|self_emp_type|unit_owned|unit_usage|end_use|loan_repay_ind|loan_product_type|financing_for|resident_type|     campaign_code|loan_scheme|loan_purpose|loan_amt|tot_disb_made|tot_disb_fixed|orgterm|iir|foir|lcr| lvr|curr_iir|curr_lcr|curr_foir|curr_lvr|adj_income|recalculated_adj_income|prime_income|no_of_dependents|pd_fd_flag|approval_date|first_disb_date|last_disb_date|     all_cross_links|acq_mode|proj_status|prop_type|mortgage_type|assessed_mkt_value|prop_cost|           prop_city|identified_prop|  roi|   emi|orig_term|loan_type|cur_emios|cur_pmios|cur_osadd|cur_mros|cur_sios|cur_ppcos|bal_term|add_int_recble|add_int_recd|ly_os_add_int|ly_os_mr|mr_recble|mr_recd|cur_pr_emi|cur_pr_pmi| to_date|normal_pay_mode|app_status|last_pay_mode|cust_prime_income|cust_oth_income|nri_flag|nat_of_emp|cust_self_emp_type|profession|dt_of_birth|retire_date|marital_status|social_status|sex|qualification1|qualification2|   emp_business_of|emp_branch_type| emp_industry_type|  emp_corp_buss_area|         designation|work_since|tot_exp|comm_residence_type|repeat_flag|\n",
      "+--------------+----------+--------+-------------------+-------------+-----------+--------+------------+------------+-------------+----------------+---------------+-----------+-----------+-------------+---------+-------------+----------+----------+-------+--------------+-----------------+-------------+-------------+------------------+-----------+------------+--------+-------------+--------------+-------+---+----+---+----+--------+--------+---------+--------+----------+-----------------------+------------+----------------+----------+-------------+---------------+--------------+--------------------+--------+-----------+---------+-------------+------------------+---------+--------------------+---------------+-----+------+---------+---------+---------+---------+---------+--------+--------+---------+--------+--------------+------------+-------------+--------+---------+-------+----------+----------+--------+---------------+----------+-------------+-----------------+---------------+--------+----------+------------------+----------+-----------+-----------+--------------+-------------+---+--------------+--------------+------------------+---------------+------------------+--------------------+--------------------+----------+-------+-------------------+-----------+\n",
      "|77344023500603|        MR|       B|               null|            Y|       null|     575|         ANW|        null|          201|             ANW|FD/DCLG/SN/SANC|      WLKIN|       null|         null|        E|         null|      null|      null|   null|          null|              HOU|          RES|          RES|              null|        NOR|        null| 5432247|      5432247|       5432247|    216| 31|   0| 88|null|       7|      88|     null|    null|    149900|             2085483.75|      124900|               0|        FD|     26-12-03|       17-01-04|      17-01-04|616566328,211154182,|       P|       null|        F|            F|              null|  6167150|              MUMBAI|           null| 9.55| 10868|      216|       L1|    14794|        0|      219|      22|       0|        0|     108|           219|         215|          215|       0|       53|     31|    781480|         0|30-04-26|              M|      null|            M|           124900|          25000|       N|         E|              null|      null|   04-11-61|   04-11-21|             M|         null|  M|            BE|           DBM|              null|           null|              null|                null|     COUNTRY MANAGER|   8 YEARS|   null|               null|       null|\n",
      "|77477286303459|        MR|       B|                  F|            Y|       null|     571|         AKR|        null|          201|             AKR|FD/DBMD/SN/SANC|      WLKIN|       null|         null|        E|         null|      null|      null|   null|            HF|              HOU|          RES|          RES|ALLINDIAXDISBX0905|        NOR|         PUR| 7188630|      7188630|       7188630|    240| 49|null| 95|null|      39|      95|     null|    null|    109150|            1136524.375|       88950|               0|        FD|     23-11-05|       31-01-06|      16-05-07|617026774,364162131,|       P|       null|        F|            F|              null|  7591190|              MUMBAI|           null|10.65| 42525|      240|       L1|        0|        0|     -638|       0|       0|        0|    null|           638|        1894|          618|      20|       60|     80|         0|         0|    null|              M|      null|            W|            88950|          20200|       N|         E|              null|      null|   11-06-67|   11-06-27|             M|           OT|  M|            BE|           MBA|       CONSULTANCY|           null|  INFORMATION TECH|         DEVELOPMENT|        COUNTRY HEAD|  15 YEARS|   null|         COMP_LEASE|       null|\n",
      "|77514251361302|        MR|       B|               null|            Y|       null|     571|         KOP|        null|          201|             KOP|FD/DBMD/SN/SANC|      EXTNC|       null|         null|        E|         null|      null|      null|   null|          null|              HOU|          RES|          RES|              null|        NOR|         PUR|10000000|     10000000|      10000000|    192| 42|  64| 71|null|      42|      72|       64|    null|    250000|              2668750.0|      250000|               0|        FD|     24-04-06|       28-02-07|      28-02-07|211916472,2110712...|       R|       null|        F|            F|          13200000| 13873500|              MUMBAI|           null|10.15|104423|      180|       L1|        0|        0|        0|       0|       0|        0|     111|             0|           0|            0|       0|        0|      0|   7477749|         0|31-07-26|              M|      null|            M|           250000|              0|       N|         E|              null|      null|   19-03-62|   19-03-22|             M|         null|  M|          BCOM|           MBA|              null|              B|              null|                null|   MANAGING DIRECTOR|    21 YRS|   null|             FAMILY|       null|\n",
      "|77554700079293|        MR|       B|                  F|            Y|       null|    5371|         AND|        null|          201|             AKR|        FD/DCMT|      WLKIN|       null|         null|        E|         null|      null|      null|   null|            HP|              HOU|          RES|          NRI|              null|        NOR|         PUR| 5336285|      5336285|       5336285|    240| 39|  44| 81|null|      11|      81|       12|    null|    535471|           4076272.9875|      281436|               0|        FD|     15-11-06|       08-02-10|      08-02-10|                null|       P|       null|        F|            F|              null|  6605683|              MUMBAI|           null| 9.35| 57738|      240|       L1|   -57738|        0|        0|     100|       0|        0|     115|             0|           0|            0|     100|        0|      0|   4374285|         0|30-11-26|              A|      null|           HP|           254035|              0|       N|         E|              null|      null|   23-12-76|   23-12-34|             M|           OT|  M|            BE|          null|       CONSULTANCY|           null|  INFORMATION TECH|         DEVELOPMENT|    ASST. CONSULTANT|     7 YRS|   null|               null|       null|\n",
      "|77562635977085|        MR|       B|                  F|            Y|       null|     571|         PRL|        null|          201|             PRL|        FD/DCMT|        DSA|      HSHO1|        HLSIL|        E|         null|      null|      null|   null|            HP|              HOU|          RES|          RES|ALLINDIAXDISBX0906|        NOR|         PUR|11682000|     11682000|      11682000|    204| 29|  45| 90|null|    null|    null|     null|    null|    374452|              3538571.4|      254785|               2|        FD|     14-12-06|       30-12-06|      02-05-08|605439225,2194070...|       P|       null|        F|            F|              null| 12649350|              MUMBAI|           null| 8.95|112007|      204|       L1|        0|        0|        0|       0|       0|        0|     100|             0|           0|            0|       0|        0|      0|   7874411|         0|31-08-25|              A|      null|            A|           527488|              0|       N|         E|              null|      null|   10-04-64|   10-04-24|             M|           OT|  M|         CAIIB|          null|          SERVICES|              B|           BANKING|  INTERNATIONAL BANK|                 SVP|      7YRS|   null|         SELF_OWNED|       null|\n",
      "|78001933422531|        MR|       B|                  F|            Y|       null|     571|         MAL|        null|          201|             MAL|        FD/DBMD|        DSA|        HDB|HDFC BANK LTD|        E|         null|      null|      null|   null|            HB|              HOU|          RES|          RES|              null|        NOR|         PUR| 6000000|      6000000|       6000000|    240| 50|  60| 88|null|      50|      86|       60|    null|    116667|           1235211.8625|      116667|               0|        FD|     21-03-07|       31-03-07|      31-03-07|                null|       P|       null|        F|            F|              null|  7005460|              MUMBAI|           null| 11.4| 58899|      240|       L1|    -1731|        0|        0|     100|       0|        0|      44|           876|         876|            0|       0|      231|    131|   2093318|         0|31-12-20|              M|      null|            M|           116667|              0|       N|         E|              null|      null|   02-05-74|   02-05-32|             S|           OT|  M|            BE|           MBA|          SERVICES|           null|FINANCIAL SERVICES|BACK OFFICE SERVICES|             MANAGER|  6 MONTHS|   null|             FAMILY|       null|\n",
      "|78046228285677|        MR|       B|                  F|            Y|       null|    5217|          DB|          DB|          201|             AKR|FD/DBMD/SN/SANC|      WLKIN|       null|       DIRECT|        E|         null|      null|      null|   null|            HP|              HOU|          RES|          NRI|              null|        NOR|         PUR| 2200000|      2200000|       2200000|    120|  9|  53| 26|null|       9|      26|       53|    null|    306000|              1713600.0|      306000|               0|        FD|     11-05-07|       07-05-11|      07-05-11|                null|       P|       null|        F|            F|              null|  8504250|              MUMBAI|           null|10.55| 28770|      120|       L1|   -28770|        0|        0|       0|       0|        0|      65|             0|           0|            0|       0|        0|      0|   1417705|         0|28-02-22|              M|      null|            M|           306000|              0|       Y|         E|              null|      null|   23-02-65|   23-02-23|             M|           OT|  M|            BA|          null|              null|              2|              null|                null|HEAD SERVICES CON...|         7|   null|               null|       null|\n",
      "|78087182141705|        MR|       B|                  F|            Y|       null|    5217|          DB|        null|          201|             AKR|        FD/DBMD|      WLKIN|       null|       DIRECT|        E|         null|         2|INVESTMENT|   null|            HP|              HOU|          RES|          NRI| DUBAI.NEGRTS.0311|        NOR|         PUR| 5331675|      5331675|       5331675|    180| 24|  40| 75|null|      24|      75|       40|    null|    242000|              1355200.0|      242000|               3|        FD|     25-05-07|       11-05-11|      11-05-11|                null|       P|       null|        F|            F|              null|  7109780|              MUMBAI|           null| 10.7| 56969|      180|       L1|        0|        0|        0|       0|       0|        0|     140|             0|           0|            0|     100|        0|    100|   4530842|         0|31-05-28|              M|      null|            M|           242000|              0|       Y|         E|              null|      null|   22-07-70|   22-07-28|             M|           OT|  M|           DCE|          null|          SERVICES|           null|       ENGINEERING|ENGINEERING PROJECTS|          SR MANAGER|  5 MONTHS|   null|             RENTED|       null|\n",
      "|78178797941118|        MR|       B|                  F|            Y|       null|    5217|          DB|          DB|          201|             AKR|FD/DBMD/SN/SANC|      WLKIN|       null|       DIRECT|        S|          SEB|         1|INVESTMENT|   null|            HP|              HOU|          RES|          NRI| DUBAI.NEGRTS.0311|        NOR|         PUR| 7043250|      7043250|       7043250|     84| 22|null| 77|null|      15|      71|     null|    null|    805680|              4511808.0|      505680|               0|        FD|     25-07-07|       14-05-11|      14-05-11|                null|       P|       null|        F|            F|              null|  9873200|              MUMBAI|           null| 10.7|116563|       84|       L1|     2763|        0|        0|      20|       0|        0|      24|         10492|       10492|            0|       0|      552|    532|   2491540|         0|30-09-18|              M|      null|            M|           505680|         300000|       Y|         S|               SEB|      null|   17-03-78|       null|             M|           NA|  M|             G|          null|              null|           null|              null|                null|   MANAGING DIRECTOR|      null|   null|               null|       null|\n",
      "|78226295181899|        MS|       B|                  F|            Y|       null|    5217|          DB|          DB|          201|             AKR|        PR/DOCR|      WLKIN|       null|       DIRECT|        E|         null|         1|    RENTAL|   null|            HP|              HOU|          RES|          NRI| DUBAI.NEGRTS.0311|        NOR|         PUR| 4521850|      4521850|       4521850|     84| 22|  47| 71|null|      22|      71|       47|    null|    342108|                   null|      342108|               0|        FD|     22-08-07|       06-04-11|      06-04-11|          608047001,|       P|       null|        F|            F|              null|  6378900|              MUMBAI|              Y| null|  null|     null|     null|     null|     null|     null|    null|    null|     null|    null|          null|        null|         null|    null|     null|   null|      null|      null|    null|           null|      null|         null|           342108|              0|       Y|         E|              null|      null|   03-11-83|   03-11-41|             M|           NA|  F|          null|          null|          SERVICES|           null|     LIFE SCIENCES|DIAGONISTIC REAGENTS|SOFTWARE ENGINEER...|   3.5 YRS|   null|               null|       null|\n",
      "|78229124832771|        MR|       B|                  F|            Y|       null|    5217|          DB|          DB|          201|             AKR|        PR/DOCR|        DSA|        MOK|    OTHER DSA|        S|          SEB|         1|INVESTMENT|   null|            HP|              HOU|          RES|          NRI| DUBAI.NEGRTS.0311|        NOR|         PUR| 7000000|      7000000|       7000000|     84| 35|null| 64|null|      38|      64|     null|    null|    307350|                   null|      187350|               0|        FD|     21-08-07|       23-04-11|      23-04-11|                null|       P|       null|        F|            F|              null| 10885735|              MUMBAI|              Y| null|  null|     null|     null|     null|     null|     null|    null|    null|     null|    null|          null|        null|         null|    null|     null|   null|      null|      null|    null|           null|      null|         null|           187350|         120000|       Y|         S|               SEB|      null|   02-08-52|       null|             M|           NA|  M|            BE|          null|              null|           null|              null|                null|             MANAGER|      null|   null|               null|       null|\n",
      "|78336783245627|        MR|       B|                  F|            Y|       null|     571|         THN|        null|          201|             THN|PD/DBMD/SN/SANC|        DSA|        HDB|HDFC BANK LTD|        E|         null|         2| SELF OCCP|   null|            HB|              HOU|          RES|          RES|ALLIND.FESTVE.1011|        TRC|         PUR| 9450000|      9048665|       9048665|    240| 35|  48| 81|null|      31|      78|       45|    null|    301099|              1475385.1|      232133|               0|        PD|     02-11-07|       14-01-12|      20-10-16|                null|       P|    TC/APRV|        F|            F|              null| 12069500|              MUMBAI|              Y|  9.7| 82561|      204|       L1|        0|    -1813|        0|       0|       0|        0|     205|             0|           0|            0|       0|        0|      0|   7901750|         0|31-10-33|              M|      null|            H|           232133|          68750|       N|         E|              null|      null|   12-02-70|   12-02-28|             M|           OT|  M|            CA|          null|         SOLUTIONS|           null|           SERVICE|   ADVISORY SERVICES|      VICE PRESIDENT|   1.5 YRS|   null|         SELF_OWNED|       null|\n",
      "|78342229299380|        MR|       B|                  F|            Y|       null|    5217|         AKR|        null|          201|             AKR|        FD/DBMD|      WLKIN|       null|       DIRECT|        E|         null|         1|INVESTMENT|   null|            HP|              HOU|          RES|          NRI|              null|        NOR|         PUR| 5466256|      5466256|       5466256|    144| 21|  37| 76|null|       4|      76|       22|    null|    679291|           3863467.5625|      386481|               0|        FD|     13-11-07|       07-04-11|      07-04-11|                null|       P|       null|        F|            F|              null|  7189280|ANDHERI [E]   MUMBAI|              Y| 10.8| 29581|      144|       L1|   -29581|        0|        0|       0|       0|        0|      92|             0|           0|            0|       0|        0|      0|   1844109|         0|31-05-24|              M|      null|            M|           386481|              0|       Y|         E|              null|      null|   15-06-71|   15-06-29|             M|           OT|  M|           BSE|           MBA|            SUPPLY|           null|            RETAIL|        STORE CHAINS|PRINCIPAL PROGRAMMER|      null|   null|             RENTED|       null|\n",
      "|78361581828896|       MRS|       B|                  H|            Y|       null|     571|         ANW|        null|          201|             PRL|FD/DBMD/SN/SANC|        DSA|        HDB|HDFC BANK LTD|        E|         null|         1| SELF OCCP|   null|            HP|              HOU|          RES|          RES|              null|        TRC|         PUR| 1817801|      1817801|       1817801|    240| 18|  25| 85|null|      20|      85|       27|    null|    103425|            552030.9375|      103425|               0|        FD|     21-11-07|       16-08-11|      01-10-14|213855337,619375572,|       P|    TC/APRV|        F|            F|              null|  2139656|          DIST THANE|              Y| 9.65| 29000|      240|       L1|        0|        0|        0|       0|       0|        0|      28|             0|           0|            0|       0|        0|      0|    717149|         0|31-01-19|              M|      null|            M|           103425|              0|       N|         E|              null|      null|   11-03-74|   11-03-32|             M|           OT|  F|           DBA|          null|       MANUFACTURE|           null|          CHEMICAL|            CHEMICAL|   TERRITORY MANAGER|  20 MONTH|   null|             FAMILY|       null|\n",
      "|78375819332844|        MR|       B|                  F|            Y|       null|     571|         AKR|        null|          201|             AKR|        FD/DBMD|      WLKIN|       null|       DIRECT|        E|         null|         1| SELF OCCP|   null|            HP|              HOU|          RES|          RES|              null|        NOR|         PUR| 4500000|      4500000|       4500000|    240| 47|null| 65|null|      14|      62|     null|    null|    120326|               673825.6|       79972|               1|        FD|     11-12-07|       30-05-11|      30-05-11|                null|       P|       null|        F|            F|              null|  7299240|              MUMBAI|              Y|  9.6| 17175|      240|       L1|        0|        0|        0|       0|       0|        0|     120|             0|           0|            0|       0|        0|      0|   1319029|         0|30-09-26|              M|      null|            M|            79972|              0|       N|         E|              null|      null|   03-03-77|   03-03-42|             M|           OT|  M|         BTECH|          null|       CONSULTANCY|           null|  INFORMATION TECH|         DEVELOPMENT|ASSOCIATE CONSULTANT|    6.5YRS|   null|             RENTED|       null|\n",
      "|78390073296757|        MR|       B|                  F|            Y|       null|    5217|          DB|          DB|          201|             AKR|        PR/DOCR|      WLKIN|       null|       DIRECT|        E|         null|         1| SELF OCCP|   null|            HB|              HOU|          RES|          NRI| DUBAI.NEGRTS.0311|        NOR|         PUR| 7800000|      7800000|       7800000|    120| 30|  69| 75|null|      18|      75|       40|    null|    571200|                   null|      372000|               2|        FD|     26-12-07|       07-05-11|      07-05-11|                null|       P|       null|        F|            F|              null| 10396800|              MUMBAI|              Y| null|  null|     null|     null|     null|     null|     null|    null|    null|     null|    null|          null|        null|         null|    null|     null|   null|      null|      null|    null|           null|      null|         null|           372000|              0|       Y|         E|              null|      null|   22-04-68|   22-04-26|             M|           OT|  M|          BCOM|          null|              null|           null|              null|                null|MANAGER CONTAINER...|    7.6YRS|   null|             RENTED|       null|\n",
      "|78421758729382|        MR|       B|                  F|            Y|       null|     571|         AKR|        null|          201|             AKR|FD/DBMD/SN/SANC|      WLKIN|       null|       DIRECT|        S|          SEP|         2| SELF OCCP|   null|            EC|              HOU|          RES|          RES|              null|        NOR|         PUR| 7500000|      7500000|       7500000|    180| 71|  80| 67|null|      67|      67|       76|    null|    117000|               655200.0|      117000|               0|        FD|     11-01-08|       30-05-11|      30-05-11|          609436790,|       P|       null|        F|            F|          14269000| 11237840|              MUMBAI|              Y|  9.7| 78240|      180|       L1|        0|        0|        0|       0|       0|        0|     129|             0|           0|            0|       0|        0|      0|   6228471|         0|30-06-27|              M|      null|            M|           117000|              0|       N|         S|               SEP|       CON|   21-09-67|       null|             M|           NA|  M|           MBA|          null|INVESTMENT BANKING|           null|              null|                null|   MANAGING DIRECTOR|      null|   null|             RENTED|       null|\n",
      "|78424315510612|        MR|       B|                  F|            Y|       null|     571|         PRL|        null|          201|             PRL|        FD/DBMD|        DSA|        HDB|HDFC BANK LTD|        E|         null|         1| SELF OCCP|   null|            HB|              HOU|          RES|          RES|ALLIND.FESTVE.0907|        NOR|         PUR|13241250|     13241250|      13241250|    240| 40|  46| 90|null|    null|    null|     null|    null|    323210|              3167458.0|      323210|               1|        FD|     24-12-07|       02-01-08|      02-01-08|                null|       R|       null|        F|            F|              null| 14712600|              MUMBAI|           null|  9.0|129605|      240|       L1|  -129605|        0|    -1858|     -10|       0|        0|     126|           929|        5369|         2582|      30|       52|     92|  10540275|         0|31-10-27|              I|      null|            I|           323210|              0|       N|         E|              null|      null|   13-08-70|   13-08-28|             M|           OT|  M|            BE|          null|        PRODUCTION|              B|             MEDIA|            BUSINESS|  ASSOCIATE DIRECTOR|    1.3YRS|   null|             FAMILY|       null|\n",
      "|78430914127692|        MR|       B|                  F|            Y|       null|     571|         NRL|        null|          201|             SEA|FD/DBMD/SN/SANC|      WLKIN|       null|       DIRECT|        E|         null|         2|INVESTMENT|   null|            EC|              HOU|          RES|          RES|              null|        NOR|         PUR| 2418000|      2418000|       2418000|    240| 15|  29| 85|null|      15|      85|       29|    null|    151423|            861218.3125|      114474|               0|        FD|     26-12-07|       05-04-11|      15-04-11|621880396,6177163...|       R|       null|        F|            F|           2701600|  2845080|         NAVI MUMBAI|              N| 9.55| 22998|      238|       L1|        0|        0|        0|       0|       0|        0|     189|             0|           0|            0|       0|        0|      0|   2239741|         0|30-06-32|              M|      null|            M|           114474|              0|       N|         E|              null|      null|   12-12-69|   12-12-29|             M|           OT|  M|          BCOM|           MBA|          SERVICES|           null|         EDUCATION|     CAREER GUIDANCE|       ASST DIRECTOR|     17YRS|   null|         SELF_OWNED|       null|\n",
      "|78433251808499|        MR|       B|                  F|            Y|       null|    5217|         AKR|        null|          201|             AKR|FD/DBMD/SN/SANC|      WLKIN|       null|       DIRECT|        E|         null|         1|INVESTMENT|   null|            EC|              HOU|          RES|          NRI|              null|        NOR|         PUR| 6167344|      6167344|       6167344|    180| 10|  25| 76|null|       4|      76|       20|    null|    670907|           3815783.5625|      670907|               0|        FD|     02-01-08|       23-04-11|      23-04-11|          610009408,|       P|       null|        F|            F|              null|  8093600|              MUMBAI|           null| 10.8| 29441|      180|       L1|        0|        0|        0|       0|       0|        0|     142|             0|           0|            0|       0|        0|      0|   2350669|         0|31-07-28|              M|      null|            M|           670907|              0|       Y|         E|              null|      null|   06-02-75|   06-02-33|             M|           OT|  M|            MA|          null|          SERVICES|           null|  INFORMATION TECH|      SEARCH ENGINES|COMPENSATION MANAGER|      1 YR|   null|             RENTED|       null|\n",
      "+--------------+----------+--------+-------------------+-------------+-----------+--------+------------+------------+-------------+----------------+---------------+-----------+-----------+-------------+---------+-------------+----------+----------+-------+--------------+-----------------+-------------+-------------+------------------+-----------+------------+--------+-------------+--------------+-------+---+----+---+----+--------+--------+---------+--------+----------+-----------------------+------------+----------------+----------+-------------+---------------+--------------+--------------------+--------+-----------+---------+-------------+------------------+---------+--------------------+---------------+-----+------+---------+---------+---------+---------+---------+--------+--------+---------+--------+--------------+------------+-------------+--------+---------+-------+----------+----------+--------+---------------+----------+-------------+-----------------+---------------+--------+----------+------------------+----------+-----------+-----------+--------------+-------------+---+--------------+--------------+------------------+---------------+------------------+--------------------+--------------------+----------+-------+-------------------+-----------+\n",
      "only showing top 20 rows\n",
      "\n"
     ]
    }
   ],
   "source": [
    "Loan_Details.show()"
   ]
  },
  {
   "cell_type": "code",
   "execution_count": 5,
   "metadata": {},
   "outputs": [
    {
     "name": "stdout",
     "output_type": "stream",
     "text": [
      "root\n",
      " |-- cust_id: long (nullable = true)\n",
      " |-- cust_title: string (nullable = true)\n",
      " |-- capacity: string (nullable = true)\n",
      " |-- father_relationship: string (nullable = true)\n",
      " |-- is_prop_owner: string (nullable = true)\n",
      " |-- rel_to_borr: string (nullable = true)\n",
      " |-- group_no: integer (nullable = true)\n",
      " |-- origin_place: string (nullable = true)\n",
      " |-- source_place: string (nullable = true)\n",
      " |-- origin_branch: integer (nullable = true)\n",
      " |-- place_of_service: string (nullable = true)\n",
      " |-- status: string (nullable = true)\n",
      " |-- origin_mode: string (nullable = true)\n",
      " |-- agency_code: string (nullable = true)\n",
      " |-- channel_type: string (nullable = true)\n",
      " |-- emp_class: string (nullable = true)\n",
      " |-- self_emp_type: string (nullable = true)\n",
      " |-- unit_owned: string (nullable = true)\n",
      " |-- unit_usage: string (nullable = true)\n",
      " |-- end_use: string (nullable = true)\n",
      " |-- loan_repay_ind: string (nullable = true)\n",
      " |-- loan_product_type: string (nullable = true)\n",
      " |-- financing_for: string (nullable = true)\n",
      " |-- resident_type: string (nullable = true)\n",
      " |-- campaign_code: string (nullable = true)\n",
      " |-- loan_scheme: string (nullable = true)\n",
      " |-- loan_purpose: string (nullable = true)\n",
      " |-- loan_amt: long (nullable = true)\n",
      " |-- tot_disb_made: long (nullable = true)\n",
      " |-- tot_disb_fixed: long (nullable = true)\n",
      " |-- orgterm: integer (nullable = true)\n",
      " |-- iir: integer (nullable = true)\n",
      " |-- foir: integer (nullable = true)\n",
      " |-- lcr: integer (nullable = true)\n",
      " |-- lvr: integer (nullable = true)\n",
      " |-- curr_iir: integer (nullable = true)\n",
      " |-- curr_lcr: integer (nullable = true)\n",
      " |-- curr_foir: integer (nullable = true)\n",
      " |-- curr_lvr: integer (nullable = true)\n",
      " |-- adj_income: integer (nullable = true)\n",
      " |-- recalculated_adj_income: double (nullable = true)\n",
      " |-- prime_income: integer (nullable = true)\n",
      " |-- no_of_dependents: integer (nullable = true)\n",
      " |-- pd_fd_flag: string (nullable = true)\n",
      " |-- approval_date: string (nullable = true)\n",
      " |-- first_disb_date: string (nullable = true)\n",
      " |-- last_disb_date: string (nullable = true)\n",
      " |-- all_cross_links: string (nullable = true)\n",
      " |-- acq_mode: string (nullable = true)\n",
      " |-- proj_status: string (nullable = true)\n",
      " |-- prop_type: string (nullable = true)\n",
      " |-- mortgage_type: string (nullable = true)\n",
      " |-- assessed_mkt_value: long (nullable = true)\n",
      " |-- prop_cost: long (nullable = true)\n",
      " |-- prop_city: string (nullable = true)\n",
      " |-- identified_prop: string (nullable = true)\n",
      " |-- roi: double (nullable = true)\n",
      " |-- emi: integer (nullable = true)\n",
      " |-- orig_term: integer (nullable = true)\n",
      " |-- loan_type: string (nullable = true)\n",
      " |-- cur_emios: integer (nullable = true)\n",
      " |-- cur_pmios: integer (nullable = true)\n",
      " |-- cur_osadd: integer (nullable = true)\n",
      " |-- cur_mros: integer (nullable = true)\n",
      " |-- cur_sios: integer (nullable = true)\n",
      " |-- cur_ppcos: integer (nullable = true)\n",
      " |-- bal_term: integer (nullable = true)\n",
      " |-- add_int_recble: integer (nullable = true)\n",
      " |-- add_int_recd: integer (nullable = true)\n",
      " |-- ly_os_add_int: integer (nullable = true)\n",
      " |-- ly_os_mr: integer (nullable = true)\n",
      " |-- mr_recble: string (nullable = true)\n",
      " |-- mr_recd: string (nullable = true)\n",
      " |-- cur_pr_emi: integer (nullable = true)\n",
      " |-- cur_pr_pmi: string (nullable = true)\n",
      " |-- to_date: string (nullable = true)\n",
      " |-- normal_pay_mode: string (nullable = true)\n",
      " |-- app_status: string (nullable = true)\n",
      " |-- last_pay_mode: string (nullable = true)\n",
      " |-- cust_prime_income: integer (nullable = true)\n",
      " |-- cust_oth_income: integer (nullable = true)\n",
      " |-- nri_flag: string (nullable = true)\n",
      " |-- nat_of_emp: string (nullable = true)\n",
      " |-- cust_self_emp_type: string (nullable = true)\n",
      " |-- profession: string (nullable = true)\n",
      " |-- dt_of_birth: string (nullable = true)\n",
      " |-- retire_date: string (nullable = true)\n",
      " |-- marital_status: string (nullable = true)\n",
      " |-- social_status: string (nullable = true)\n",
      " |-- sex: string (nullable = true)\n",
      " |-- qualification1: string (nullable = true)\n",
      " |-- qualification2: string (nullable = true)\n",
      " |-- emp_business_of: string (nullable = true)\n",
      " |-- emp_branch_type: string (nullable = true)\n",
      " |-- emp_industry_type: string (nullable = true)\n",
      " |-- emp_corp_buss_area: string (nullable = true)\n",
      " |-- designation: string (nullable = true)\n",
      " |-- work_since: string (nullable = true)\n",
      " |-- tot_exp: string (nullable = true)\n",
      " |-- comm_residence_type: string (nullable = true)\n",
      " |-- repeat_flag: string (nullable = true)\n",
      "\n"
     ]
    }
   ],
   "source": [
    "Loan_Details.printSchema()"
   ]
  },
  {
   "cell_type": "code",
   "execution_count": 6,
   "metadata": {},
   "outputs": [
    {
     "name": "stdout",
     "output_type": "stream",
     "text": [
      "root\n",
      " |-- cust_id: string (nullable = true)\n",
      " |-- app_seq_no: string (nullable = true)\n",
      " |-- action: string (nullable = true)\n",
      " |-- date_of_action: string (nullable = true)\n",
      " |-- response: string (nullable = true)\n",
      " |-- def_observ: string (nullable = true)\n",
      " |-- remark: string (nullable = true)\n",
      " |-- amount_spent: string (nullable = true)\n",
      " |-- amount_tobechg: string (nullable = true)\n",
      " |-- action_to_be: string (nullable = true)\n",
      " |-- seq_no_reln: string (nullable = true)\n",
      " |-- upd_date: string (nullable = true)\n",
      " |-- print_dt: string (nullable = true)\n",
      " |-- action_to_be_dt: string (nullable = true)\n",
      " |-- delegated_to: string (nullable = true)\n",
      " |-- action_type: string (nullable = true)\n",
      " |-- tel_serial_no: string (nullable = true)\n",
      " |-- action_source: string (nullable = true)\n",
      " |-- promised_amt: string (nullable = true)\n",
      " |-- promised_dt: string (nullable = true)\n",
      " |-- special_info_type: string (nullable = true)\n",
      " |-- associate_cd: string (nullable = true)\n",
      " |-- year: string (nullable = true)\n",
      " |-- month: string (nullable = true)\n",
      "\n"
     ]
    }
   ],
   "source": [
    "Action_Records.printSchema()"
   ]
  },
  {
   "cell_type": "code",
   "execution_count": 7,
   "metadata": {},
   "outputs": [
    {
     "name": "stdout",
     "output_type": "stream",
     "text": [
      "+-------+\n",
      "|cust_id|\n",
      "+-------+\n",
      "+-------+\n",
      "\n"
     ]
    }
   ],
   "source": [
    "from pyspark.sql.functions import *\n",
    "Action_Records.select(\"cust_id\") \\\n",
    "              .where(col(\"action\") == 'VC').show();"
   ]
  },
  {
   "cell_type": "markdown",
   "metadata": {},
   "source": [
    "# Consider only columns which will be required for the end results"
   ]
  },
  {
   "cell_type": "code",
   "execution_count": 8,
   "metadata": {},
   "outputs": [
    {
     "name": "stdout",
     "output_type": "stream",
     "text": [
      "+--------------+-----------+--------+-----+------+---------+---------+--------+--------------+---+--------------+------------------+\n",
      "|       cust_id|loan_scheme|loan_amt|  roi|   emi|orig_term|loan_type|nri_flag|marital_status|sex|qualification1| emp_industry_type|\n",
      "+--------------+-----------+--------+-----+------+---------+---------+--------+--------------+---+--------------+------------------+\n",
      "|77344023500603|        NOR| 5432247| 9.55| 10868|      216|       L1|       N|             M|  M|            BE|              null|\n",
      "|77477286303459|        NOR| 7188630|10.65| 42525|      240|       L1|       N|             M|  M|            BE|  INFORMATION TECH|\n",
      "|77514251361302|        NOR|10000000|10.15|104423|      180|       L1|       N|             M|  M|          BCOM|              null|\n",
      "|77554700079293|        NOR| 5336285| 9.35| 57738|      240|       L1|       N|             M|  M|            BE|  INFORMATION TECH|\n",
      "|77562635977085|        NOR|11682000| 8.95|112007|      204|       L1|       N|             M|  M|         CAIIB|           BANKING|\n",
      "|78001933422531|        NOR| 6000000| 11.4| 58899|      240|       L1|       N|             S|  M|            BE|FINANCIAL SERVICES|\n",
      "|78046228285677|        NOR| 2200000|10.55| 28770|      120|       L1|       Y|             M|  M|            BA|              null|\n",
      "|78087182141705|        NOR| 5331675| 10.7| 56969|      180|       L1|       Y|             M|  M|           DCE|       ENGINEERING|\n",
      "|78178797941118|        NOR| 7043250| 10.7|116563|       84|       L1|       Y|             M|  M|             G|              null|\n",
      "|78226295181899|        NOR| 4521850| null|  null|     null|     null|       Y|             M|  F|          null|     LIFE SCIENCES|\n",
      "|78229124832771|        NOR| 7000000| null|  null|     null|     null|       Y|             M|  M|            BE|              null|\n",
      "|78336783245627|        TRC| 9450000|  9.7| 82561|      204|       L1|       N|             M|  M|            CA|           SERVICE|\n",
      "|78342229299380|        NOR| 5466256| 10.8| 29581|      144|       L1|       Y|             M|  M|           BSE|            RETAIL|\n",
      "|78361581828896|        TRC| 1817801| 9.65| 29000|      240|       L1|       N|             M|  F|           DBA|          CHEMICAL|\n",
      "|78375819332844|        NOR| 4500000|  9.6| 17175|      240|       L1|       N|             M|  M|         BTECH|  INFORMATION TECH|\n",
      "|78390073296757|        NOR| 7800000| null|  null|     null|     null|       Y|             M|  M|          BCOM|              null|\n",
      "|78421758729382|        NOR| 7500000|  9.7| 78240|      180|       L1|       N|             M|  M|           MBA|              null|\n",
      "|78424315510612|        NOR|13241250|  9.0|129605|      240|       L1|       N|             M|  M|            BE|             MEDIA|\n",
      "|78430914127692|        NOR| 2418000| 9.55| 22998|      238|       L1|       N|             M|  M|          BCOM|         EDUCATION|\n",
      "|78433251808499|        NOR| 6167344| 10.8| 29441|      180|       L1|       Y|             M|  M|            MA|  INFORMATION TECH|\n",
      "+--------------+-----------+--------+-----+------+---------+---------+--------+--------------+---+--------------+------------------+\n",
      "only showing top 20 rows\n",
      "\n"
     ]
    }
   ],
   "source": [
    "Loan_Detail_Req = Loan_Details.select(\"cust_id\",\"loan_scheme\",\"loan_amt\",\"roi\",\"emi\",\"orig_term\",\"loan_type\",\"nri_flag\",\"marital_status\",\"sex\",\"qualification1\",\"emp_industry_type\")\n",
    "\n",
    "Loan_Detail_Req.show()"
   ]
  },
  {
   "cell_type": "code",
   "execution_count": 9,
   "metadata": {},
   "outputs": [
    {
     "name": "stdout",
     "output_type": "stream",
     "text": [
      "+---------------+--------------+---------+-------------+\n",
      "|        Cust_id|months_pending|yearmonth|date_modified|\n",
      "+---------------+--------------+---------+-------------+\n",
      "| 90067414406392|          null|   201005|     31-05-10|\n",
      "|108795864349417|          null|   201005|     31-05-10|\n",
      "|214690102911818|          null|   201005|     31-05-10|\n",
      "|215510773722767|          null|   201005|     31-05-10|\n",
      "|215290235796157|          null|   201005|     31-05-10|\n",
      "| 90067414406392|          null|   201006|     30-06-10|\n",
      "|108795864349417|          null|   201006|     30-06-10|\n",
      "|215510773722767|          null|   201006|     30-06-10|\n",
      "|215290235796157|          null|   201006|     30-06-10|\n",
      "|214690102911818|          null|   201006|     30-06-10|\n",
      "|108795864349417|          null|   201007|     31-07-10|\n",
      "|214690102911818|          null|   201007|     31-07-10|\n",
      "|215290235796157|          null|   201007|     31-07-10|\n",
      "|215510773722767|          null|   201007|     31-07-10|\n",
      "| 90067414406392|          null|   201007|     31-07-10|\n",
      "|215290235796157|           1.0|   201008|     31-08-10|\n",
      "|215510773722767|           1.0|   201008|     31-08-10|\n",
      "|214690102911818|           0.0|   201008|     31-08-10|\n",
      "| 90067414406392|           0.0|   201008|     31-08-10|\n",
      "|108795864349417|           2.0|   201008|     31-08-10|\n",
      "+---------------+--------------+---------+-------------+\n",
      "only showing top 20 rows\n",
      "\n"
     ]
    }
   ],
   "source": [
    "Pending_Status_Req = Pending_Status.select(\"Cust_id\",\"months_pending\",\"yearmonth\",\"date_modified\")\n",
    "Pending_Status_Req.show()"
   ]
  },
  {
   "cell_type": "code",
   "execution_count": 10,
   "metadata": {},
   "outputs": [
    {
     "name": "stdout",
     "output_type": "stream",
     "text": [
      "+---------------+------+--------------+--------+--------------+--------+---------------+------------+-----------+----+-----+\n",
      "|        cust_id|action|date_of_action|response|amount_tobechg|upd_date|action_to_be_dt|promised_amt|promised_dt|year|month|\n",
      "+---------------+------+--------------+--------+--------------+--------+---------------+------------+-----------+----+-----+\n",
      "|220765599260167|    MS|      07-05-12|      LM|            10|07-05-12|       14-05-12|        null|       null|null| null|\n",
      "|108795864349417|   TBM|      10-11-09|     PTP|             0|10-11-09|       18-11-09|        3644|   14-11-09|null| null|\n",
      "|108795864349417| LREM2|      09-11-09|    null|            15|16-11-09|           null|        null|       null|null| null|\n",
      "|108795864349417|    EO|      15-02-11|    null|             0|16-02-11|           null|        null|       null|null| null|\n",
      "|220409067639619|   TBM|      11-11-11|     PTP|            10|11-11-11|       19-11-11|       13550|   19-11-11|null| null|\n",
      "|220383397043982|   TBM|      11-11-11|      LM|            10|11-11-11|       20-11-11|        null|       null|null| null|\n",
      "|108795864349417| LREM2|      09-01-10|    null|             0|13-01-10|           null|        null|       null|null| null|\n",
      "|108795864349417| LREM2|      09-02-11|    null|            15|16-02-11|           null|        null|       null|null| null|\n",
      "| 90067414406392|   TBM|      11-04-09|     URL|             0|11-04-09|       16-04-09|        null|       null|null| null|\n",
      "| 90067414406392|   TBM|      13-04-09|     URL|             0|13-04-09|       29-04-09|        null|       null|null| null|\n",
      "| 90067414406392|   TBM|      08-05-09|      LM|            10|08-05-09|       14-05-09|        null|       null|null| null|\n",
      "| 90067414406392| LREM2|      09-05-09|    null|             0|19-05-09|           null|        null|       null|null| null|\n",
      "| 90067414406392|   TBM|      12-02-09|      LM|            10|12-02-09|       16-02-09|        null|       null|null| null|\n",
      "| 90067414406392|   TBM|      13-02-09|     PIT|            10|13-02-09|       19-02-09|        null|       null|null| null|\n",
      "| 90067414406392| LREM2|      09-02-09|    null|             0|19-02-09|           null|        null|       null|null| null|\n",
      "|220732423652044|   TBC|      07-06-12|      LM|            10|07-06-12|       08-06-12|        null|       null|null| null|\n",
      "| 90067414406392|   TBM|      13-03-09|      LM|            10|13-03-09|       22-03-09|        null|       null|null| null|\n",
      "| 90067414406392|   TBM|      16-03-09|     URL|             0|16-03-09|           null|        null|       null|null| null|\n",
      "| 90067414406392| LREM2|      12-03-09|    null|            15|17-03-09|           null|        null|       null|null| null|\n",
      "|108795864349417|   TBM|      25-08-09|      LM|          null|25-08-09|       28-08-09|        null|       null|null| null|\n",
      "+---------------+------+--------------+--------+--------------+--------+---------------+------------+-----------+----+-----+\n",
      "only showing top 20 rows\n",
      "\n"
     ]
    }
   ],
   "source": [
    "Action_Records_Req = Action_Records.select(\"cust_id\",\"action\",\"date_of_action\",\"response\",\"amount_tobechg\",\"upd_date\",\"action_to_be_dt\",\"promised_amt\",\"promised_dt\",\"year\",\"month\")\n",
    "Action_Records_Req.show()"
   ]
  },
  {
   "cell_type": "code",
   "execution_count": 11,
   "metadata": {},
   "outputs": [
    {
     "data": {
      "text/plain": [
       "7"
      ]
     },
     "execution_count": 11,
     "metadata": {},
     "output_type": "execute_result"
    }
   ],
   "source": [
    "Action_Records_Req.where(col(\"year\").isNotNull() & col(\"month\").isNotNull()).count()"
   ]
  },
  {
   "cell_type": "markdown",
   "metadata": {},
   "source": [
    "### checking Null value in the Pending Status table"
   ]
  },
  {
   "cell_type": "code",
   "execution_count": 12,
   "metadata": {},
   "outputs": [],
   "source": [
    "from pyspark.sql.functions import *"
   ]
  },
  {
   "cell_type": "code",
   "execution_count": 13,
   "metadata": {},
   "outputs": [
    {
     "name": "stdout",
     "output_type": "stream",
     "text": [
      "Null value in Cust_id :-  0\n"
     ]
    }
   ],
   "source": [
    "print(\"Null value in Cust_id :- \",Pending_Status_Req.filter(col(\"Cust_id\").isNull()).count())"
   ]
  },
  {
   "cell_type": "code",
   "execution_count": 14,
   "metadata": {},
   "outputs": [
    {
     "name": "stdout",
     "output_type": "stream",
     "text": [
      "Null value in months pending :-  10474\n"
     ]
    }
   ],
   "source": [
    "print(\"Null value in months pending :- \",Pending_Status_Req.filter(col(\"months_pending\").isNull()).count())"
   ]
  },
  {
   "cell_type": "code",
   "execution_count": 15,
   "metadata": {},
   "outputs": [
    {
     "name": "stdout",
     "output_type": "stream",
     "text": [
      "-ve value in months pending :-  62567\n"
     ]
    }
   ],
   "source": [
    "print(\"-ve value in months pending :- \",Pending_Status_Req.where(col(\"months_pending\") < 0).count())"
   ]
  },
  {
   "cell_type": "code",
   "execution_count": 16,
   "metadata": {},
   "outputs": [
    {
     "name": "stdout",
     "output_type": "stream",
     "text": [
      "Null value in yearmonth :-  0\n"
     ]
    }
   ],
   "source": [
    "print(\"Null value in yearmonth :- \",Pending_Status_Req.filter(col(\"yearmonth\").isNull()).count())"
   ]
  },
  {
   "cell_type": "code",
   "execution_count": 17,
   "metadata": {},
   "outputs": [
    {
     "name": "stdout",
     "output_type": "stream",
     "text": [
      "Null value in date modified :-  0\n"
     ]
    }
   ],
   "source": [
    "print(\"Null value in date modified :- \",Pending_Status_Req.filter(col(\"date_modified\").isNull()).count())"
   ]
  },
  {
   "cell_type": "markdown",
   "metadata": {},
   "source": [
    "#### Replacing Null value in Months Pending by 0.0, drop -ve value in Months Pending and handle year and month"
   ]
  },
  {
   "cell_type": "code",
   "execution_count": 18,
   "metadata": {},
   "outputs": [
    {
     "name": "stdout",
     "output_type": "stream",
     "text": [
      "+---------------+--------------+---------+-------------+----+-----+\n",
      "|        Cust_id|months_pending|yearmonth|date_modified|year|month|\n",
      "+---------------+--------------+---------+-------------+----+-----+\n",
      "| 90067414406392|           0.0|   201005|     31-05-10|2010|    5|\n",
      "|108795864349417|           0.0|   201005|     31-05-10|2010|    5|\n",
      "|214690102911818|           0.0|   201005|     31-05-10|2010|    5|\n",
      "|215510773722767|           0.0|   201005|     31-05-10|2010|    5|\n",
      "|215290235796157|           0.0|   201005|     31-05-10|2010|    5|\n",
      "| 90067414406392|           0.0|   201006|     30-06-10|2010|    6|\n",
      "|108795864349417|           0.0|   201006|     30-06-10|2010|    6|\n",
      "|215510773722767|           0.0|   201006|     30-06-10|2010|    6|\n",
      "|215290235796157|           0.0|   201006|     30-06-10|2010|    6|\n",
      "|214690102911818|           0.0|   201006|     30-06-10|2010|    6|\n",
      "|108795864349417|           0.0|   201007|     31-07-10|2010|    7|\n",
      "|214690102911818|           0.0|   201007|     31-07-10|2010|    7|\n",
      "|215290235796157|           0.0|   201007|     31-07-10|2010|    7|\n",
      "|215510773722767|           0.0|   201007|     31-07-10|2010|    7|\n",
      "| 90067414406392|           0.0|   201007|     31-07-10|2010|    7|\n",
      "|215290235796157|           1.0|   201008|     31-08-10|2010|    8|\n",
      "|215510773722767|           1.0|   201008|     31-08-10|2010|    8|\n",
      "|214690102911818|           0.0|   201008|     31-08-10|2010|    8|\n",
      "| 90067414406392|           0.0|   201008|     31-08-10|2010|    8|\n",
      "|108795864349417|           2.0|   201008|     31-08-10|2010|    8|\n",
      "+---------------+--------------+---------+-------------+----+-----+\n",
      "only showing top 20 rows\n",
      "\n"
     ]
    }
   ],
   "source": [
    "Pending_Status_noNull=Pending_Status_Req.fillna(0.0) \\\n",
    "                                        .withColumn('year', substring('yearmonth', 1,4).cast(\"Integer\")) \\\n",
    "                                        .withColumn('month', substring('yearmonth', 5,2).cast(\"Integer\")) \\\n",
    "                                        .where(col(\"months_pending\")>= 0)\n",
    "Pending_Status_noNull.show()"
   ]
  },
  {
   "cell_type": "code",
   "execution_count": 19,
   "metadata": {},
   "outputs": [
    {
     "name": "stdout",
     "output_type": "stream",
     "text": [
      "Months Pending -ve :-  0\n",
      "Year :-  0\n",
      "Month :-  0\n"
     ]
    }
   ],
   "source": [
    "print(\"Months Pending -ve :- \", Pending_Status_noNull.where(col(\"months_pending\")< 0).count())\n",
    "print(\"Year :- \", Pending_Status_noNull.where(col(\"year\")< 0).count())\n",
    "print(\"Month :- \", Pending_Status_noNull.where(col(\"month\")< 0).count())"
   ]
  },
  {
   "cell_type": "code",
   "execution_count": 20,
   "metadata": {},
   "outputs": [
    {
     "name": "stdout",
     "output_type": "stream",
     "text": [
      "root\n",
      " |-- Cust_id: long (nullable = true)\n",
      " |-- months_pending: double (nullable = false)\n",
      " |-- yearmonth: integer (nullable = true)\n",
      " |-- date_modified: string (nullable = true)\n",
      " |-- year: integer (nullable = true)\n",
      " |-- month: integer (nullable = true)\n",
      "\n"
     ]
    }
   ],
   "source": [
    "Pending_Status_noNull.printSchema()"
   ]
  },
  {
   "cell_type": "markdown",
   "metadata": {},
   "source": [
    "##### checking Null value in the Loan Details table"
   ]
  },
  {
   "cell_type": "code",
   "execution_count": 21,
   "metadata": {},
   "outputs": [
    {
     "name": "stdout",
     "output_type": "stream",
     "text": [
      "root\n",
      " |-- cust_id: long (nullable = true)\n",
      " |-- loan_scheme: string (nullable = true)\n",
      " |-- loan_amt: long (nullable = true)\n",
      " |-- roi: double (nullable = true)\n",
      " |-- emi: integer (nullable = true)\n",
      " |-- orig_term: integer (nullable = true)\n",
      " |-- loan_type: string (nullable = true)\n",
      " |-- nri_flag: string (nullable = true)\n",
      " |-- marital_status: string (nullable = true)\n",
      " |-- sex: string (nullable = true)\n",
      " |-- qualification1: string (nullable = true)\n",
      " |-- emp_industry_type: string (nullable = true)\n",
      "\n"
     ]
    }
   ],
   "source": [
    "Loan_Detail_Req.printSchema()"
   ]
  },
  {
   "cell_type": "markdown",
   "metadata": {},
   "source": [
    "### checking Null value in the Loan Details table"
   ]
  },
  {
   "cell_type": "code",
   "execution_count": 22,
   "metadata": {},
   "outputs": [
    {
     "name": "stdout",
     "output_type": "stream",
     "text": [
      "Null value in Cust_id :-  0\n"
     ]
    }
   ],
   "source": [
    "print(\"Null value in Cust_id :- \",Loan_Detail_Req.filter(col(\"Cust_id\").isNull()).count())"
   ]
  },
  {
   "cell_type": "code",
   "execution_count": 23,
   "metadata": {},
   "outputs": [
    {
     "name": "stdout",
     "output_type": "stream",
     "text": [
      "Null value in Loan Amount :-  0\n"
     ]
    }
   ],
   "source": [
    "print(\"Null value in Loan Amount :- \",Loan_Detail_Req.filter(col(\"loan_amt\").isNull()).count())"
   ]
  },
  {
   "cell_type": "code",
   "execution_count": 24,
   "metadata": {},
   "outputs": [
    {
     "name": "stdout",
     "output_type": "stream",
     "text": [
      "Null value in Loan Type :-  117374\n"
     ]
    }
   ],
   "source": [
    "print(\"Null value in Loan Type :- \",Loan_Detail_Req.filter(col(\"loan_type\").isNull()).count())"
   ]
  },
  {
   "cell_type": "code",
   "execution_count": 25,
   "metadata": {},
   "outputs": [
    {
     "name": "stdout",
     "output_type": "stream",
     "text": [
      "Null value in Rate of Interest :-  117374\n"
     ]
    }
   ],
   "source": [
    "print(\"Null value in Rate of Interest :- \",Loan_Detail_Req.filter(col(\"roi\").isNull()).count())"
   ]
  },
  {
   "cell_type": "code",
   "execution_count": 26,
   "metadata": {},
   "outputs": [
    {
     "name": "stdout",
     "output_type": "stream",
     "text": [
      "Null value in EMI :-  117381\n"
     ]
    }
   ],
   "source": [
    "print(\"Null value in EMI :- \",Loan_Detail_Req.filter(col(\"emi\").isNull()).count())"
   ]
  },
  {
   "cell_type": "code",
   "execution_count": 27,
   "metadata": {},
   "outputs": [
    {
     "data": {
      "text/plain": [
       "117374"
      ]
     },
     "execution_count": 27,
     "metadata": {},
     "output_type": "execute_result"
    }
   ],
   "source": [
    "Loan_Detail_Req.select(\"Cust_id\").where(col(\"loan_type\").isNull() & col(\"roi\").isNull() & col(\"emi\").isNull()).count()"
   ]
  },
  {
   "cell_type": "code",
   "execution_count": 28,
   "metadata": {},
   "outputs": [
    {
     "data": {
      "text/plain": [
       "7"
      ]
     },
     "execution_count": 28,
     "metadata": {},
     "output_type": "execute_result"
    }
   ],
   "source": [
    "Loan_Detail_Req.select(\"Cust_id\").where((col(\"loan_type\").isNotNull() & col(\"roi\").isNotNull()) & col(\"emi\").isNull()).count()"
   ]
  },
  {
   "cell_type": "markdown",
   "metadata": {},
   "source": [
    "####  Removal of rows containing Null value in EMI/ROI/Loan Type from Loan Detail"
   ]
  },
  {
   "cell_type": "code",
   "execution_count": 29,
   "metadata": {},
   "outputs": [],
   "source": [
    "Loan_Detail_noNull = Loan_Detail_Req.where(col(\"emi\").isNotNull())"
   ]
  },
  {
   "cell_type": "code",
   "execution_count": 30,
   "metadata": {},
   "outputs": [
    {
     "data": {
      "text/plain": [
       "0"
      ]
     },
     "execution_count": 30,
     "metadata": {},
     "output_type": "execute_result"
    }
   ],
   "source": [
    "Loan_Detail_noNull.select(\"Cust_id\").where(col(\"loan_type\").isNull() | col(\"roi\").isNull() | col(\"emi\").isNull()).count()"
   ]
  },
  {
   "cell_type": "markdown",
   "metadata": {},
   "source": [
    "### checking value in the Action required Table"
   ]
  },
  {
   "cell_type": "code",
   "execution_count": 31,
   "metadata": {},
   "outputs": [
    {
     "name": "stdout",
     "output_type": "stream",
     "text": [
      "Null value in Customer ID :-  172035\n"
     ]
    }
   ],
   "source": [
    "# Customer id with null value can't be of any use. these details should be dropped. \n",
    "print(\"Null value in Customer ID :- \",Action_Records_Req.filter(col(\"cust_id\").isNull()).count())"
   ]
  },
  {
   "cell_type": "code",
   "execution_count": 32,
   "metadata": {},
   "outputs": [
    {
     "data": {
      "text/plain": [
       "7"
      ]
     },
     "execution_count": 32,
     "metadata": {},
     "output_type": "execute_result"
    }
   ],
   "source": [
    "# all most all values are null. these columns need to be dropped.\n",
    "Action_Records_Req.where(col(\"year\").isNotNull() & col(\"month\").isNotNull()).count()"
   ]
  },
  {
   "cell_type": "code",
   "execution_count": 33,
   "metadata": {},
   "outputs": [
    {
     "data": {
      "text/plain": [
       "1902074"
      ]
     },
     "execution_count": 33,
     "metadata": {},
     "output_type": "execute_result"
    }
   ],
   "source": [
    "# Customed with 'Null' action, has no use in the analysis. Can be dropped. \n",
    "Action_Records_Req.where(col(\"action\").isNull()).count()"
   ]
  },
  {
   "cell_type": "code",
   "execution_count": 34,
   "metadata": {},
   "outputs": [
    {
     "data": {
      "text/plain": [
       "1819820"
      ]
     },
     "execution_count": 34,
     "metadata": {},
     "output_type": "execute_result"
    }
   ],
   "source": [
    "# Customed with 'Null' action, has no use in the analysis. Can be dropped. \n",
    "Action_Records_Req.where(col(\"cust_id\").isNotNull() & col(\"action\").isNull()).count()"
   ]
  },
  {
   "cell_type": "code",
   "execution_count": 35,
   "metadata": {},
   "outputs": [
    {
     "name": "stdout",
     "output_type": "stream",
     "text": [
      "Null value in Amount to be Charged :-  4132582\n"
     ]
    }
   ],
   "source": [
    "# Amount to be charged with Null value could be replaced with 0 and datatype should be changed to integer.\n",
    "print(\"Null value in Amount to be Charged :- \",Action_Records_Req.filter(col(\"amount_tobechg\").isNull()).count())"
   ]
  },
  {
   "cell_type": "code",
   "execution_count": 36,
   "metadata": {},
   "outputs": [
    {
     "name": "stdout",
     "output_type": "stream",
     "text": [
      "Null value in Promised Amount :-  7474125\n"
     ]
    }
   ],
   "source": [
    "# Promised Amount with Null value could be replaced with 0 and datatype should be changed to integer.\n",
    "print(\"Null value in Promised Amount :- \",Action_Records_Req.filter(col(\"promised_amt\").isNull()).count())"
   ]
  },
  {
   "cell_type": "markdown",
   "metadata": {},
   "source": [
    "####  Handling Null value in Action Required Table and change the amount fields to integer"
   ]
  },
  {
   "cell_type": "code",
   "execution_count": 37,
   "metadata": {},
   "outputs": [],
   "source": [
    "Action_Records_noNull=Action_Records_Req.where(col(\"cust_id\").isNotNull() & col(\"action\").isNotNull()) \\\n",
    "                                        .withColumn(\"amount_tobechg\",col(\"amount_tobechg\").cast(\"Integer\")) \\\n",
    "                                        .withColumn(\"promised_amt\",col(\"promised_amt\").cast(\"Integer\")) \\\n",
    "                                        .drop(\"year\",\"month\") \\\n",
    "                                        .fillna(value=0,subset=[\"amount_tobechg\",\"promised_amt\"])"
   ]
  },
  {
   "cell_type": "code",
   "execution_count": 38,
   "metadata": {},
   "outputs": [
    {
     "name": "stdout",
     "output_type": "stream",
     "text": [
      "+---------------+------+--------------+--------+--------------+--------+---------------+------------+-----------+\n",
      "|        cust_id|action|date_of_action|response|amount_tobechg|upd_date|action_to_be_dt|promised_amt|promised_dt|\n",
      "+---------------+------+--------------+--------+--------------+--------+---------------+------------+-----------+\n",
      "|220765599260167|    MS|      07-05-12|      LM|            10|07-05-12|       14-05-12|           0|       null|\n",
      "|108795864349417|   TBM|      10-11-09|     PTP|             0|10-11-09|       18-11-09|        3644|   14-11-09|\n",
      "|108795864349417| LREM2|      09-11-09|    null|            15|16-11-09|           null|           0|       null|\n",
      "|108795864349417|    EO|      15-02-11|    null|             0|16-02-11|           null|           0|       null|\n",
      "|220409067639619|   TBM|      11-11-11|     PTP|            10|11-11-11|       19-11-11|       13550|   19-11-11|\n",
      "|220383397043982|   TBM|      11-11-11|      LM|            10|11-11-11|       20-11-11|           0|       null|\n",
      "|108795864349417| LREM2|      09-01-10|    null|             0|13-01-10|           null|           0|       null|\n",
      "|108795864349417| LREM2|      09-02-11|    null|            15|16-02-11|           null|           0|       null|\n",
      "| 90067414406392|   TBM|      11-04-09|     URL|             0|11-04-09|       16-04-09|           0|       null|\n",
      "| 90067414406392|   TBM|      13-04-09|     URL|             0|13-04-09|       29-04-09|           0|       null|\n",
      "| 90067414406392|   TBM|      08-05-09|      LM|            10|08-05-09|       14-05-09|           0|       null|\n",
      "| 90067414406392| LREM2|      09-05-09|    null|             0|19-05-09|           null|           0|       null|\n",
      "| 90067414406392|   TBM|      12-02-09|      LM|            10|12-02-09|       16-02-09|           0|       null|\n",
      "| 90067414406392|   TBM|      13-02-09|     PIT|            10|13-02-09|       19-02-09|           0|       null|\n",
      "| 90067414406392| LREM2|      09-02-09|    null|             0|19-02-09|           null|           0|       null|\n",
      "|220732423652044|   TBC|      07-06-12|      LM|            10|07-06-12|       08-06-12|           0|       null|\n",
      "| 90067414406392|   TBM|      13-03-09|      LM|            10|13-03-09|       22-03-09|           0|       null|\n",
      "| 90067414406392|   TBM|      16-03-09|     URL|             0|16-03-09|           null|           0|       null|\n",
      "| 90067414406392| LREM2|      12-03-09|    null|            15|17-03-09|           null|           0|       null|\n",
      "|108795864349417|   TBM|      25-08-09|      LM|             0|25-08-09|       28-08-09|           0|       null|\n",
      "+---------------+------+--------------+--------+--------------+--------+---------------+------------+-----------+\n",
      "only showing top 20 rows\n",
      "\n"
     ]
    }
   ],
   "source": [
    "Action_Records_noNull.show()"
   ]
  },
  {
   "cell_type": "code",
   "execution_count": 39,
   "metadata": {},
   "outputs": [
    {
     "name": "stdout",
     "output_type": "stream",
     "text": [
      "root\n",
      " |-- cust_id: string (nullable = true)\n",
      " |-- action: string (nullable = true)\n",
      " |-- date_of_action: string (nullable = true)\n",
      " |-- response: string (nullable = true)\n",
      " |-- amount_tobechg: integer (nullable = true)\n",
      " |-- upd_date: string (nullable = true)\n",
      " |-- action_to_be_dt: string (nullable = true)\n",
      " |-- promised_amt: integer (nullable = true)\n",
      " |-- promised_dt: string (nullable = true)\n",
      "\n"
     ]
    }
   ],
   "source": [
    "Action_Records_noNull.printSchema()"
   ]
  },
  {
   "cell_type": "markdown",
   "metadata": {},
   "source": [
    "### Cache and Persist all tables"
   ]
  },
  {
   "cell_type": "code",
   "execution_count": 40,
   "metadata": {},
   "outputs": [],
   "source": [
    "from pyspark import StorageLevel\n",
    "\n",
    "Persist_Pending_Status = Pending_Status_noNull.persist(StorageLevel.MEMORY_AND_DISK)\n",
    "Persist_Loan_Detail = Loan_Detail_noNull.persist(StorageLevel.MEMORY_AND_DISK)\n",
    "Persist_Action_Records = Action_Records_noNull.persist(StorageLevel.MEMORY_AND_DISK)"
   ]
  },
  {
   "cell_type": "code",
   "execution_count": 41,
   "metadata": {},
   "outputs": [
    {
     "name": "stdout",
     "output_type": "stream",
     "text": [
      "Number of partitions for Action Record :-  7\n",
      "Number of partitions for Loan details :-  7\n",
      "Number of partitions for Pending Status :-  7\n"
     ]
    }
   ],
   "source": [
    "print(\"Number of partitions for Action Record :- \", Persist_Action_Records.rdd.getNumPartitions())\n",
    "print(\"Number of partitions for Loan details :- \", Persist_Loan_Detail.rdd.getNumPartitions())\n",
    "print(\"Number of partitions for Pending Status :- \", Persist_Pending_Status.rdd.getNumPartitions())"
   ]
  },
  {
   "cell_type": "code",
   "execution_count": 42,
   "metadata": {},
   "outputs": [],
   "source": [
    "# reduce the number of partitions\n",
    "Persist_Action_Records = Persist_Action_Records.coalesce(2)\n",
    "Persist_Loan_Detail = Persist_Loan_Detail.coalesce(1)\n",
    "Persist_Pending_Status = Persist_Pending_Status.coalesce(1)"
   ]
  },
  {
   "cell_type": "code",
   "execution_count": 43,
   "metadata": {},
   "outputs": [
    {
     "name": "stdout",
     "output_type": "stream",
     "text": [
      "Number of partitions for Action Record after reduction :-  2\n",
      "Number of partitions for Loan details after reduction :-  1\n",
      "Number of partitions for Pending Status after reduction :-  1\n"
     ]
    }
   ],
   "source": [
    "print(\"Number of partitions for Action Record after reduction :- \", Persist_Action_Records.rdd.getNumPartitions())\n",
    "print(\"Number of partitions for Loan details after reduction :- \", Persist_Loan_Detail.rdd.getNumPartitions())\n",
    "print(\"Number of partitions for Pending Status after reduction :- \", Persist_Pending_Status.rdd.getNumPartitions())"
   ]
  },
  {
   "cell_type": "markdown",
   "metadata": {},
   "source": [
    "###  Checking distinct years & join Pending Status and Loan Details tables"
   ]
  },
  {
   "cell_type": "code",
   "execution_count": 44,
   "metadata": {},
   "outputs": [
    {
     "name": "stdout",
     "output_type": "stream",
     "text": [
      "+----+\n",
      "|year|\n",
      "+----+\n",
      "|2010|\n",
      "|2011|\n",
      "|2012|\n",
      "|2013|\n",
      "|2014|\n",
      "|2015|\n",
      "|2016|\n",
      "+----+\n",
      "\n"
     ]
    }
   ],
   "source": [
    "from pyspark.sql.functions import *\n",
    "Persist_Pending_Status.select(\"year\").distinct().show()"
   ]
  },
  {
   "cell_type": "code",
   "execution_count": 45,
   "metadata": {},
   "outputs": [],
   "source": [
    "Action_Table = Persist_Loan_Detail.join(Persist_Action_Records,\"cust_id\",\"inner\").distinct()\n",
    "Repayment_Table = Persist_Loan_Detail.join(Persist_Pending_Status,\"cust_id\",\"inner\") \\\n",
    "                                     .select(\"cust_id\",\"marital_status\",\"sex\",\"qualification1\",\"emp_industry_type\",\"months_pending\",\"year\",\"month\") \\\n",
    "                                     .distinct()"
   ]
  },
  {
   "cell_type": "code",
   "execution_count": 46,
   "metadata": {},
   "outputs": [
    {
     "data": {
      "text/plain": [
       "['cust_id',\n",
       " 'loan_scheme',\n",
       " 'loan_amt',\n",
       " 'roi',\n",
       " 'emi',\n",
       " 'orig_term',\n",
       " 'loan_type',\n",
       " 'nri_flag',\n",
       " 'marital_status',\n",
       " 'sex',\n",
       " 'qualification1',\n",
       " 'emp_industry_type',\n",
       " 'action',\n",
       " 'date_of_action',\n",
       " 'response',\n",
       " 'amount_tobechg',\n",
       " 'upd_date',\n",
       " 'action_to_be_dt',\n",
       " 'promised_amt',\n",
       " 'promised_dt']"
      ]
     },
     "execution_count": 46,
     "metadata": {},
     "output_type": "execute_result"
    }
   ],
   "source": [
    "Action_Table.columns"
   ]
  },
  {
   "cell_type": "code",
   "execution_count": 47,
   "metadata": {},
   "outputs": [
    {
     "data": {
      "text/plain": [
       "['cust_id',\n",
       " 'marital_status',\n",
       " 'sex',\n",
       " 'qualification1',\n",
       " 'emp_industry_type',\n",
       " 'months_pending',\n",
       " 'year',\n",
       " 'month']"
      ]
     },
     "execution_count": 47,
     "metadata": {},
     "output_type": "execute_result"
    }
   ],
   "source": [
    "Repayment_Table.columns"
   ]
  },
  {
   "cell_type": "markdown",
   "metadata": {},
   "source": [
    "#### The number of times repayment was in the status of 2-month pending"
   ]
  },
  {
   "cell_type": "code",
   "execution_count": 48,
   "metadata": {},
   "outputs": [
    {
     "name": "stdout",
     "output_type": "stream",
     "text": [
      "+---------------+--------------+---+--------------+-----------------+-----+\n",
      "|        cust_id|marital_status|sex|qualification1|emp_industry_type|count|\n",
      "+---------------+--------------+---+--------------+-----------------+-----+\n",
      "|222348908166353|             M|  M|          BCOM|       GOVERNMENT|   33|\n",
      "+---------------+--------------+---+--------------+-----------------+-----+\n",
      "\n"
     ]
    }
   ],
   "source": [
    "Repayment_Table_2Months = Repayment_Table.select(\"cust_id\") \\\n",
    "               .where((col(\"months_pending\").cast(\"Integer\") == 2) & (col(\"year\").cast(\"Integer\") >= 2014)) \\\n",
    "               .groupBy(\"cust_id\") \\\n",
    "               .count().orderBy(\"count\", ascending=False)\n",
    "\n",
    "#Repayment_Table_2Months.printSchema()\n",
    "Repayment_Table_2Months_otherDetails = Repayment_Table.join(Repayment_Table_2Months,\"cust_id\",\"inner\")\n",
    "\n",
    "#Repayment_Table_2Months_otherDetails.printSchema()\n",
    "Repayment_Table_2Months_otherDetails.select(\"cust_id\",\"marital_status\",\"sex\",\"qualification1\",\"emp_industry_type\",\"count\") \\\n",
    "                                    .where((col(\"cust_id\")==\"222348908166353\")) \\\n",
    "                                    .distinct() \\\n",
    "                                    .show()\n",
    "\n",
    "#Repayment_Table_2Months_otherDetails.join(Persist_Pending_Status,\"cust_id\",\"inner\") \\\n",
    "#                                    .select(\"cust_id\",\"marital_status\",\"sex\",\"qualification1\",\"emp_industry_type\",\"count\",\"year\",\"month\") \\\n",
    "#                                    .where((col(\"months_pending\").cast(\"Integer\") == 2) & (col(\"year\").cast(\"Integer\") >= 2014)) \\\n",
    "#                                    .orderBy(\"count\", \"year\", \"month\", ascending=False) \\\n",
    "#                                    .show(100)"
   ]
  },
  {
   "cell_type": "code",
   "execution_count": 49,
   "metadata": {},
   "outputs": [
    {
     "name": "stdout",
     "output_type": "stream",
     "text": [
      "+---------------+--------------+---+--------------+-----------------+-----+\n",
      "|        cust_id|marital_status|sex|qualification1|emp_industry_type|count|\n",
      "+---------------+--------------+---+--------------+-----------------+-----+\n",
      "|220131553727050|             M|  M|            MA|             null|   33|\n",
      "|221987976614272|             M|  M|           SSC|          MINERAL|   33|\n",
      "|221061175972550|             M|  M|          PDEG|         CHEMICAL|   33|\n",
      "|220314778010336|             M|  M|           DME| INFORMATION TECH|   33|\n",
      "|219839762806617|             M|  M|           DME|      ENGINEERING|   33|\n",
      "|222101649132562|             M|  M|           USC|STATE CORPORATION|   33|\n",
      "|222271545233522|             M|  M|           SSC|          SERVICE|   33|\n",
      "|222348908166353|             M|  M|          BCOM|       GOVERNMENT|   33|\n",
      "|222583152854484|             M|  M|            HS|       GOVERNMENT|   33|\n",
      "|222766429809658|             M|  M|           SSC|          MINERAL|   33|\n",
      "|223062526656935|             M|  M|           SSC|PRINTING AND STAT|   33|\n",
      "|221295752786197|             M|  M|            BA|             null|   33|\n",
      "|221751750512132|             M|  M|           MBA|          SERVICE|   33|\n",
      "|220060930235444|             M|  M|            BE|           CEMENT|   33|\n",
      "|221766438653344|             M|  M|             G|      AUTOMOBILES|   33|\n",
      "|220826751322135|             S|  M|             G| INFORMATION TECH|   33|\n",
      "|220249992685427|             M|  M|           DME|        PETROLEUM|   32|\n",
      "|220398169313904|             M|  M|            BE|          MINERAL|   32|\n",
      "|221190058230054|             M|  M|            BA|         AVIATION|   32|\n",
      "|221271076006669|             M|  M|           MBA|            MEDIA|   32|\n",
      "+---------------+--------------+---+--------------+-----------------+-----+\n",
      "only showing top 20 rows\n",
      "\n"
     ]
    }
   ],
   "source": [
    "Repayment_Table_2Months_distinct = Repayment_Table_2Months_otherDetails.select(\"cust_id\",\"marital_status\",\"sex\",\"qualification1\",\"emp_industry_type\",\"count\") \\\n",
    "                                                                       .distinct()\n",
    "Repayment_Table_2Months_distinct.select(\"*\") \\\n",
    "                                .orderBy(\"count\",ascending=False).show()\n",
    "#                                .where((col(\"cust_id\")==\"222348908166353\")) \\\n",
    "                                "
   ]
  },
  {
   "cell_type": "markdown",
   "metadata": {},
   "source": [
    "#### Cross check the number of repayment for 2-month pending, for a specific customer id"
   ]
  },
  {
   "cell_type": "code",
   "execution_count": 50,
   "metadata": {},
   "outputs": [
    {
     "data": {
      "text/plain": [
       "33"
      ]
     },
     "execution_count": 50,
     "metadata": {},
     "output_type": "execute_result"
    }
   ],
   "source": [
    "#Repayment_Table.where((col(\"cust_id\")==\"220967113490784\") & (col(\"months_pending\").cast(\"Integer\") == 2) & (col(\"year\").cast(\"Integer\") >= 2014)).count()\n",
    "#Repayment_Table.where((col(\"cust_id\")==\"222107038490880\") & (col(\"months_pending\").cast(\"Integer\") == 2) & (col(\"year\").cast(\"Integer\") >= 2014)).count()\n",
    "Repayment_Table.where((col(\"cust_id\")==\"222348908166353\") & (col(\"months_pending\").cast(\"Integer\") == 2) & (col(\"year\").cast(\"Integer\") >= 2014)).count()"
   ]
  },
  {
   "cell_type": "code",
   "execution_count": 51,
   "metadata": {},
   "outputs": [
    {
     "data": {
      "text/plain": [
       "33"
      ]
     },
     "execution_count": 51,
     "metadata": {},
     "output_type": "execute_result"
    }
   ],
   "source": [
    "#Persist_Pending_Status.where((col(\"cust_id\")==\"220967113490784\") & (col(\"months_pending\").cast(\"Integer\") == 2) & (col(\"year\").cast(\"Integer\") >= 2014)).count()\n",
    "#Persist_Pending_Status.where((col(\"cust_id\")==\"222107038490880\") & (col(\"months_pending\").cast(\"Integer\") == 2) & (col(\"year\").cast(\"Integer\") >= 2014)).count()\n",
    "Persist_Pending_Status.where((col(\"cust_id\")==\"222348908166353\") & (col(\"months_pending\").cast(\"Integer\") == 2) & (col(\"year\").cast(\"Integer\") >= 2014)).count()"
   ]
  },
  {
   "cell_type": "markdown",
   "metadata": {},
   "source": [
    "#### The number of times repayment was in the status of 1-month pending"
   ]
  },
  {
   "cell_type": "code",
   "execution_count": 52,
   "metadata": {},
   "outputs": [],
   "source": [
    "Repayment_Table_1Months = Repayment_Table.select(\"cust_id\") \\\n",
    "               .where((col(\"months_pending\").cast(\"Integer\") == 1) & (col(\"year\").cast(\"Integer\") >= 2014)) \\\n",
    "               .groupBy(\"cust_id\") \\\n",
    "               .count().orderBy(\"count\", ascending=False)\n",
    "\n",
    "Repayment_Table_1Months_otherDetails = Repayment_Table.join(Repayment_Table_1Months,\"cust_id\",\"inner\")"
   ]
  },
  {
   "cell_type": "code",
   "execution_count": 53,
   "metadata": {},
   "outputs": [
    {
     "name": "stdout",
     "output_type": "stream",
     "text": [
      "+--------------+--------------+---+--------------+-------------------+-----+\n",
      "|       cust_id|marital_status|sex|qualification1|  emp_industry_type|count|\n",
      "+--------------+--------------+---+--------------+-------------------+-----+\n",
      "|78087182141705|             M|  M|           DCE|        ENGINEERING|   18|\n",
      "|78178797941118|             M|  M|             G|               null|    3|\n",
      "|78336783245627|             M|  M|            CA|            SERVICE|   32|\n",
      "|78361581828896|             M|  F|           DBA|           CHEMICAL|   32|\n",
      "|78375819332844|             M|  M|         BTECH|   INFORMATION TECH|   32|\n",
      "|78421758729382|             M|  M|           MBA|               null|   32|\n",
      "|78430914127692|             M|  M|          BCOM|          EDUCATION|    1|\n",
      "|78433251808499|             M|  M|            MA|   INFORMATION TECH|    2|\n",
      "|78458804258165|             M|  M|            CA|   INFORMATION TECH|    1|\n",
      "|78529762435726|             M|  M|           MBA|            BANKING|    2|\n",
      "|78541603368770|             M|  M|           DCE|               null|    3|\n",
      "|78555792955931|             M|  M|           BSC| GEMS AND JEWELLERY|    2|\n",
      "|78616717504605|             M|  M|           BSC|               null|    1|\n",
      "|79038804410647|             M|  M|           DME|          TRANSPORT|    3|\n",
      "|79092567777215|             M|  M|           MIT|               null|    1|\n",
      "|79162609683391|             M|  M|           MBA| TELECOMMUNICATIONS|    3|\n",
      "|79176900590781|             M|  M|            MS|     POLICE SERVICE|    4|\n",
      "|79305985488743|             S|  M|            CA|ACCOUNTING SERVICES|   32|\n",
      "|79461849652429|             M|  M|          BCOM|            BANKING|   32|\n",
      "|79474690619791|             M|  M|           BSC|             ENERGY|    1|\n",
      "+--------------+--------------+---+--------------+-------------------+-----+\n",
      "only showing top 20 rows\n",
      "\n"
     ]
    }
   ],
   "source": [
    "Repayment_Table_1Months_distinct = Repayment_Table_1Months_otherDetails.select(\"cust_id\",\"marital_status\",\"sex\",\"qualification1\",\"emp_industry_type\",\"count\") \\\n",
    "                                                                       .distinct()\n",
    "Repayment_Table_1Months_distinct.show()"
   ]
  },
  {
   "cell_type": "markdown",
   "metadata": {},
   "source": [
    "#### Cross check the number of repayment for 1-month pending, for a specific customer id"
   ]
  },
  {
   "cell_type": "code",
   "execution_count": 54,
   "metadata": {},
   "outputs": [
    {
     "name": "stdout",
     "output_type": "stream",
     "text": [
      "Number of Unique Customer ID :- 235511\n"
     ]
    }
   ],
   "source": [
    "print(\"Number of Unique Customer ID :-\" , Repayment_Table_1Months_distinct.select(\"cust_id\").distinct().count())"
   ]
  },
  {
   "cell_type": "code",
   "execution_count": 55,
   "metadata": {},
   "outputs": [
    {
     "name": "stdout",
     "output_type": "stream",
     "text": [
      "Number of Records :- 235512\n"
     ]
    }
   ],
   "source": [
    "print(\"Number of Records :-\" , Repayment_Table_1Months_distinct.count())"
   ]
  },
  {
   "cell_type": "markdown",
   "metadata": {},
   "source": [
    "#### The number of times repayment was in the status of 0-month pending"
   ]
  },
  {
   "cell_type": "code",
   "execution_count": 56,
   "metadata": {},
   "outputs": [],
   "source": [
    "Repayment_Table_0Months = Repayment_Table.select(\"cust_id\") \\\n",
    "               .where((col(\"months_pending\").cast(\"Integer\") < 1) & (col(\"year\").cast(\"Integer\") >= 2014)) \\\n",
    "               .groupBy(\"cust_id\") \\\n",
    "               .count().orderBy(\"count\", ascending=False)\n",
    "\n",
    "#Repayment_Table_0Months.printSchema()\n",
    "Repayment_Table_0Months_otherDetails = Repayment_Table.join(Repayment_Table_0Months,\"cust_id\",\"inner\")\n"
   ]
  },
  {
   "cell_type": "code",
   "execution_count": 57,
   "metadata": {},
   "outputs": [
    {
     "name": "stdout",
     "output_type": "stream",
     "text": [
      "+--------------+--------------+---+--------------+------------------+-----+\n",
      "|       cust_id|marital_status|sex|qualification1| emp_industry_type|count|\n",
      "+--------------+--------------+---+--------------+------------------+-----+\n",
      "|78046228285677|             M|  M|            BA|              null|   33|\n",
      "|78087182141705|             M|  M|           DCE|       ENGINEERING|   15|\n",
      "|78178797941118|             M|  M|             G|              null|   26|\n",
      "|78336783245627|             M|  M|            CA|           SERVICE|    1|\n",
      "|78342229299380|             M|  M|           BSE|            RETAIL|   33|\n",
      "|78361581828896|             M|  F|           DBA|          CHEMICAL|    1|\n",
      "|78375819332844|             M|  M|         BTECH|  INFORMATION TECH|    1|\n",
      "|78421758729382|             M|  M|           MBA|              null|    1|\n",
      "|78430914127692|             M|  M|          BCOM|         EDUCATION|   32|\n",
      "|78433251808499|             M|  M|            MA|  INFORMATION TECH|   28|\n",
      "|78458804258165|             M|  M|            CA|  INFORMATION TECH|   30|\n",
      "|78466809653587|             M|  M|          BCOM|              null|   33|\n",
      "|78480351449681|             M|  M|            BE|              null|   33|\n",
      "|78487684912754|             M|  M|          BCOM|    INFRASTRUCTURE|   33|\n",
      "|78492489027872|             M|  F|          BCOM|              null|   33|\n",
      "|78514088891276|             M|  M|          MBBS|              null|   33|\n",
      "|78521788862903|             M|  M|           MBA|FINANCIAL SERVICES|   32|\n",
      "|78522881073025|             M|  M|         DHEMS|  INFORMATION TECH|   33|\n",
      "|78529762435726|             M|  M|           MBA|           BANKING|   31|\n",
      "|78541603368770|             M|  M|           DCE|              null|   30|\n",
      "+--------------+--------------+---+--------------+------------------+-----+\n",
      "only showing top 20 rows\n",
      "\n"
     ]
    }
   ],
   "source": [
    "Repayment_Table_0Months_distinct = Repayment_Table_0Months_otherDetails.select(\"cust_id\",\"marital_status\",\"sex\",\"qualification1\",\"emp_industry_type\",\"count\") \\\n",
    "                                                                       .distinct()\n",
    "Repayment_Table_0Months_distinct.show()"
   ]
  },
  {
   "cell_type": "markdown",
   "metadata": {},
   "source": [
    "### Write final result to the Hive Table"
   ]
  },
  {
   "cell_type": "code",
   "execution_count": null,
   "metadata": {},
   "outputs": [],
   "source": [
    "#Repayment_Table_2Months_distinct.write.option(\"header\",\"true\").option(\"sep\",\",\").mode(\"overwrite\").csv(\"/user/tswdsml6user016/CapStone_BankLoan\")"
   ]
  },
  {
   "cell_type": "code",
   "execution_count": null,
   "metadata": {},
   "outputs": [],
   "source": [
    "#Repayment_Table_1Months_distinct.write.option(\"header\",\"true\").option(\"sep\",\",\").mode(\"overwrite\").csv(\"/user/tswdsml6user016/CapStone_BankLoan\")"
   ]
  },
  {
   "cell_type": "code",
   "execution_count": null,
   "metadata": {},
   "outputs": [],
   "source": [
    "#Repayment_Table_0Months_distinct.write.option(\"header\",\"true\").option(\"sep\",\",\").mode(\"overwrite\").csv(\"/user/tswdsml6user016/CapStone_BankLoan\")"
   ]
  },
  {
   "cell_type": "markdown",
   "metadata": {},
   "source": [
    "###  Checking distinct actions & join Action Records and Loan Details tables"
   ]
  },
  {
   "cell_type": "code",
   "execution_count": 58,
   "metadata": {},
   "outputs": [
    {
     "name": "stdout",
     "output_type": "stream",
     "text": [
      "root\n",
      " |-- cust_id: long (nullable = true)\n",
      " |-- loan_amt: long (nullable = true)\n",
      " |-- roi: double (nullable = true)\n",
      " |-- emi: integer (nullable = true)\n",
      " |-- loan_type: string (nullable = true)\n",
      " |-- action: string (nullable = true)\n",
      "\n"
     ]
    }
   ],
   "source": [
    "Action_Table = Persist_Loan_Detail.join(Persist_Action_Records,\"cust_id\",\"inner\") \\\n",
    "                                  .select(\"cust_id\",\"loan_amt\",\"roi\",\"emi\",\"loan_type\",\"action\") \\\n",
    "                                  .distinct()\n",
    "Action_Table.printSchema()"
   ]
  },
  {
   "cell_type": "code",
   "execution_count": 79,
   "metadata": {},
   "outputs": [
    {
     "name": "stdout",
     "output_type": "stream",
     "text": [
      "+---------------+--------+-----+-----+---------+------+\n",
      "|        cust_id|loan_amt|  roi|  emi|loan_type|action|\n",
      "+---------------+--------+-----+-----+---------+------+\n",
      "| 79851185983222| 3660000| 9.45|48606|       L1|   TBM|\n",
      "| 79851185983222| 3660000| 9.45|48606|       L1|    MS|\n",
      "| 80389573515299| 1850000| 10.3|13849|       L1|   TBM|\n",
      "| 80389573515299| 1850000| 10.3|13849|       L1|   CON|\n",
      "| 80389573515299| 1850000| 10.3|13849|       L1|   ICB|\n",
      "| 80389573515299| 1850000| 10.3|13849|       L1|   CST|\n",
      "| 87277394009234| 1640000|10.05|17952|       L1|   TBM|\n",
      "| 87277394009234| 1640000|10.05|17952|       L1|  AREM|\n",
      "| 87277394009234| 1640000|10.05|17952|       L1|   VBP|\n",
      "| 87277394009234| 1640000|10.05|17952|       L1|   ICB|\n",
      "| 87277394009234| 1640000|10.05|17952|       L1|   TCM|\n",
      "| 87277394009234| 1640000|10.05|17952|       L1|  AEML|\n",
      "| 87277394009234| 1640000|10.05|17952|       L1|  ASMS|\n",
      "| 87277394009234| 1640000|10.05|17952|       L1|   CON|\n",
      "| 87277394009234| 1640000|10.05|17952|       L1|    MS|\n",
      "| 87277394009234| 1640000|10.05|17952|       L1|  VBPX|\n",
      "|106032946199074| 4000000|  9.8|45464|       L1|   TMM|\n",
      "|106032946199074| 4000000|  9.8|45464|       L1|   TBM|\n",
      "|106032946199074| 4000000|  9.8|45464|       L1|   TBC|\n",
      "|106032946199074| 4000000|  9.8|45464|       L1|   VBE|\n",
      "+---------------+--------+-----+-----+---------+------+\n",
      "only showing top 20 rows\n",
      "\n"
     ]
    }
   ],
   "source": [
    "Action_Table.show()"
   ]
  },
  {
   "cell_type": "code",
   "execution_count": 63,
   "metadata": {},
   "outputs": [
    {
     "name": "stdout",
     "output_type": "stream",
     "text": [
      "Total number of TBM :-  168917\n"
     ]
    }
   ],
   "source": [
    "print(\"Total number of TBM :- \",Action_Table.where(col(\"action\") == \"TBM\").count())"
   ]
  },
  {
   "cell_type": "code",
   "execution_count": 64,
   "metadata": {},
   "outputs": [
    {
     "name": "stdout",
     "output_type": "stream",
     "text": [
      "Total number of TCM :-  31149\n"
     ]
    }
   ],
   "source": [
    "print(\"Total number of TCM :- \",Action_Table.where(col(\"action\") == \"TCM\").count())"
   ]
  },
  {
   "cell_type": "code",
   "execution_count": 78,
   "metadata": {},
   "outputs": [
    {
     "name": "stdout",
     "output_type": "stream",
     "text": [
      "Total number of VBC :-  10276\n"
     ]
    }
   ],
   "source": [
    "print(\"Total number of VBC :- \",Action_Table.where(col(\"action\") == \"VBC\").count())"
   ]
  },
  {
   "cell_type": "code",
   "execution_count": 77,
   "metadata": {},
   "outputs": [
    {
     "name": "stdout",
     "output_type": "stream",
     "text": [
      "Total number of VCC :-  143\n"
     ]
    }
   ],
   "source": [
    "print(\"Total number of VCC :- \",Action_Table.where(col(\"action\") == \"VCC\").count())"
   ]
  },
  {
   "cell_type": "code",
   "execution_count": 72,
   "metadata": {},
   "outputs": [
    {
     "name": "stdout",
     "output_type": "stream",
     "text": [
      "+------+\n",
      "|action|\n",
      "+------+\n",
      "|     Y|\n",
      "|  VMRX|\n",
      "|   VMR|\n",
      "|  VMEX|\n",
      "|   VME|\n",
      "|  VGRX|\n",
      "|   VGR|\n",
      "|  VGEX|\n",
      "|   VGE|\n",
      "|  VCPX|\n",
      "|   VCP|\n",
      "|  VCEX|\n",
      "|   VCE|\n",
      "|  VCCX|\n",
      "|   VCC|\n",
      "|  VBPX|\n",
      "|   VBP|\n",
      "|  VBEX|\n",
      "|   VBE|\n",
      "|  VBCX|\n",
      "|   VBC|\n",
      "|  TMRX|\n",
      "|   TMR|\n",
      "|  TMMX|\n",
      "|   TMM|\n",
      "|  TMEX|\n",
      "|   TME|\n",
      "|   TLG|\n",
      "|  TGRX|\n",
      "|   TGR|\n",
      "|  TGMX|\n",
      "|   TGM|\n",
      "|   TGE|\n",
      "|  TCPX|\n",
      "|   TCP|\n",
      "|  TCMX|\n",
      "|   TCM|\n",
      "|  TCEX|\n",
      "|   TCE|\n",
      "|  TCCX|\n",
      "|   TCC|\n",
      "|  TBPX|\n",
      "|   TBP|\n",
      "|  TBMX|\n",
      "|   TBM|\n",
      "|  TBEX|\n",
      "|   TBE|\n",
      "|  TBCX|\n",
      "|   TBC|\n",
      "|   SRN|\n",
      "|   SQI|\n",
      "|   SPR|\n",
      "|   SNA|\n",
      "|   SMS|\n",
      "|   SHA|\n",
      "|  SFAH|\n",
      "|    SF|\n",
      "|   SAR|\n",
      "|  S138|\n",
      "|   RVL|\n",
      "|   RTB|\n",
      "|  RSGE|\n",
      "|  RPLT|\n",
      "|   RFV|\n",
      "|   REM|\n",
      "|   RDD|\n",
      "|  RBLD|\n",
      "|   PSM|\n",
      "|   PMI|\n",
      "|  PEMI|\n",
      "|   PEM|\n",
      "|   PCL|\n",
      "|   NLR|\n",
      "|   NGB|\n",
      "|   NG2|\n",
      "|   NG1|\n",
      "|   NBB|\n",
      "|   NB2|\n",
      "|   NB1|\n",
      "|     N|\n",
      "|    MS|\n",
      "|   LVG|\n",
      "|   LVC|\n",
      "|   LVB|\n",
      "|  LTRP|\n",
      "|   LTB|\n",
      "|   LSP|\n",
      "| LREM2|\n",
      "| LREM1|\n",
      "|  LPMI|\n",
      "| LPEMI|\n",
      "|  LP99|\n",
      "|   LP6|\n",
      "|   LP5|\n",
      "|   LP4|\n",
      "|   LP3|\n",
      "|   LNG|\n",
      "|   LNB|\n",
      "|    LM|\n",
      "|   LLB|\n",
      "|  LGLF|\n",
      "|   LGE|\n",
      "|   LG4|\n",
      "|   LG3|\n",
      "|   LG2|\n",
      "|   LG1|\n",
      "|    LG|\n",
      "| LEPMI|\n",
      "|  LEMI|\n",
      "|   LEM|\n",
      "|   LCE|\n",
      "|    LC|\n",
      "|   LBP|\n",
      "|   LBI|\n",
      "|   LBE|\n",
      "|   LBD|\n",
      "|   LBC|\n",
      "|   LB4|\n",
      "|   LB3|\n",
      "|   LB2|\n",
      "|  LB1D|\n",
      "|  LB1C|\n",
      "|  LB12|\n",
      "|   LB1|\n",
      "|    LB|\n",
      "|   LAR|\n",
      "| L-EMI|\n",
      "|   IVM|\n",
      "|   IVG|\n",
      "|   IVC|\n",
      "|   IVB|\n",
      "|   ILM|\n",
      "|   ILG|\n",
      "|   ILE|\n",
      "|   ILC|\n",
      "|   ILB|\n",
      "|   ILA|\n",
      "|   IEM|\n",
      "|   IEE|\n",
      "|   IEC|\n",
      "|   IEB|\n",
      "|   ICM|\n",
      "|   ICG|\n",
      "|   ICE|\n",
      "|   ICC|\n",
      "|   ICB|\n",
      "|  GUR1|\n",
      "|   GUR|\n",
      "|  GRAM|\n",
      "|    GM|\n",
      "+------+\n",
      "only showing top 150 rows\n",
      "\n"
     ]
    }
   ],
   "source": [
    "Action_Table.select(\"action\").distinct().orderBy(\"action\",ascending=False).show(150)"
   ]
  },
  {
   "cell_type": "markdown",
   "metadata": {},
   "source": [
    "# action TB, TC, VB, VC is not available in the action_record table, hence below problem statement couldn't be solved, instead used TBM, TCM, VBC and VCC\n",
    "\n",
    "### \t\t\t 4. The number of times the action TB (call to customer/borrower) was taken\n",
    "###\t\t\t 5. The number of times the action TC (call to co-borrower) was taken\n",
    "###\t\t\t 6. The number of times the action VB (visit to customer/borrower) was taken\n",
    "###\t\t\t 7. The number of times the action VC (visit to co-borrower) was taken\n"
   ]
  },
  {
   "cell_type": "code",
   "execution_count": 96,
   "metadata": {},
   "outputs": [],
   "source": [
    "Action_Table_TBM = Action_Table.select(\"cust_id\",\"action\") \\\n",
    "                               .where(col(\"action\") == \"TBM\") \\\n",
    "                               .groupBy(\"cust_id\") \\\n",
    "                               .count() \\\n",
    "                               .orderBy(\"count\", ascending=False)"
   ]
  },
  {
   "cell_type": "code",
   "execution_count": 97,
   "metadata": {},
   "outputs": [
    {
     "name": "stdout",
     "output_type": "stream",
     "text": [
      "+---------------+-----+\n",
      "|        cust_id|count|\n",
      "+---------------+-----+\n",
      "|223624552893414|    2|\n",
      "|220851037086050|    2|\n",
      "|220093259435589|    2|\n",
      "|221367195252506|    2|\n",
      "|221723170892014|    2|\n",
      "|223215083830764|    2|\n",
      "|220268191554285|    2|\n",
      "|221286447419317|    2|\n",
      "|223651764141775|    2|\n",
      "|222714091144505|    2|\n",
      "|220786664357597|    2|\n",
      "|220155071725042|    2|\n",
      "|221254748087166|    2|\n",
      "|221668013915076|    2|\n",
      "|221319317603645|    2|\n",
      "|221462972131071|    2|\n",
      "|221262430501497|    2|\n",
      "|222114939639857|    2|\n",
      "|221116196880444|    2|\n",
      "|221616771849369|    2|\n",
      "+---------------+-----+\n",
      "only showing top 20 rows\n",
      "\n"
     ]
    }
   ],
   "source": [
    "Action_Table_TBM.show()"
   ]
  },
  {
   "cell_type": "code",
   "execution_count": 108,
   "metadata": {},
   "outputs": [
    {
     "name": "stdout",
     "output_type": "stream",
     "text": [
      "+---------------+--------+---------+-----+-----+-----+\n",
      "|        cust_id|loan_amt|loan_type|  roi|  emi|count|\n",
      "+---------------+--------+---------+-----+-----+-----+\n",
      "| 79851185983222| 3660000|       L1| 9.45|48606|    1|\n",
      "| 80389573515299| 1850000|       L1| 10.3|13849|    1|\n",
      "| 87277394009234| 1640000|       L1|10.05|17952|    1|\n",
      "|106032946199074| 4000000|       L1|  9.8|45464|    1|\n",
      "|134859336307016| 1350000|       L1| 10.3|14923|    1|\n",
      "|219542355746126| 2970000|       L1|  9.7|30000|    1|\n",
      "|219649150559485| 1300000|       L1|10.55|10000|    1|\n",
      "|219663238826417| 1600000|       L1| 9.65|15975|    1|\n",
      "|219663298082291|  640407|       L1|10.55| 6075|    1|\n",
      "|219792385540692| 3455304|       L1|  9.8|35080|    1|\n",
      "|219816331131997| 1850000|       L1| 10.3|15617|    1|\n",
      "|219824685844454| 1700000|       L1| 10.3|16859|    1|\n",
      "|219881728036050|  719201|       L1|10.55| 7619|    1|\n",
      "|219889627721919|  731511|       L1|10.55| 8200|    1|\n",
      "|219907709542137| 2500000|       L1| 9.55|29662|    1|\n",
      "|219907740267405| 3765000|       L1| 10.3|51120|    1|\n",
      "|219921769278463| 3300000|       L1| 10.8|23789|    1|\n",
      "|219925762100195|  650000|       L1| 10.3| 6059|    1|\n",
      "|219960716847646| 1200000|       L1|10.55|16944|    1|\n",
      "|219963347150053| 1630000|       L1| 9.55|20000|    1|\n",
      "+---------------+--------+---------+-----+-----+-----+\n",
      "only showing top 20 rows\n",
      "\n"
     ]
    }
   ],
   "source": [
    "Action_Table_TBM_otherDetails = Action_Table_TBM.join(Action_Table,\"cust_id\",\"inner\")\n",
    "\n",
    "Action_Table_TBM_distinct = Action_Table_TBM_otherDetails.select(\"cust_id\",\"loan_amt\",\"loan_type\",\"roi\",\"emi\",\"count\") \\\n",
    "                                                         .where((col(\"action\")) == \"TBM\")\n",
    "                                                                       #.distinct()\n",
    "Action_Table_TBM_distinct.show()"
   ]
  },
  {
   "cell_type": "code",
   "execution_count": 109,
   "metadata": {},
   "outputs": [
    {
     "name": "stdout",
     "output_type": "stream",
     "text": [
      "+---------------+--------+---------+----+-----+-----+\n",
      "|        cust_id|loan_amt|loan_type| roi|  emi|count|\n",
      "+---------------+--------+---------+----+-----+-----+\n",
      "|223624552893414| 4000000|       L1|12.7|51006|    2|\n",
      "|223624552893414| 4000000|       L1|11.0|51006|    2|\n",
      "+---------------+--------+---------+----+-----+-----+\n",
      "\n"
     ]
    }
   ],
   "source": [
    "Action_Table_TBM_distinct.select(\"*\").where(col(\"cust_id\") == 223624552893414).show()"
   ]
  },
  {
   "cell_type": "code",
   "execution_count": 110,
   "metadata": {},
   "outputs": [
    {
     "name": "stdout",
     "output_type": "stream",
     "text": [
      "+---------------+-----+\n",
      "|        cust_id|count|\n",
      "+---------------+-----+\n",
      "|220428011962003|    2|\n",
      "|220744473443755|    2|\n",
      "|221764124382265|    2|\n",
      "|220093259435589|    2|\n",
      "|221732053054905|    2|\n",
      "|223166298323389|    2|\n",
      "|220210948551116|    2|\n",
      "|222114939639857|    2|\n",
      "|221254748087166|    2|\n",
      "|222147575726905|    2|\n",
      "|220525054428988|    2|\n",
      "|219811160508325|    2|\n",
      "|221080859530251|    2|\n",
      "|221160145718548|    2|\n",
      "|220058478797990|    2|\n",
      "|221262430501497|    2|\n",
      "|221286447419317|    2|\n",
      "|221116196880444|    2|\n",
      "|221367195252506|    2|\n",
      "|221236102604591|    2|\n",
      "+---------------+-----+\n",
      "only showing top 20 rows\n",
      "\n"
     ]
    }
   ],
   "source": [
    "Action_Table_TCM = Action_Table.select(\"cust_id\",\"action\") \\\n",
    "                               .where(col(\"action\") == \"TCM\") \\\n",
    "                               .groupBy(\"cust_id\") \\\n",
    "                               .count() \\\n",
    "                               .orderBy(\"count\", ascending=False)\n",
    "Action_Table_TCM.show()"
   ]
  },
  {
   "cell_type": "code",
   "execution_count": 111,
   "metadata": {},
   "outputs": [
    {
     "name": "stdout",
     "output_type": "stream",
     "text": [
      "+---------------+--------+---------+-----+-----+-----+\n",
      "|        cust_id|loan_amt|loan_type|  roi|  emi|count|\n",
      "+---------------+--------+---------+-----+-----+-----+\n",
      "| 87277394009234| 1640000|       L1|10.05|17952|    1|\n",
      "|219619126120217| 3872360|       L1|10.55|39971|    1|\n",
      "|219951155436866| 2500000|       L1|10.05|31201|    1|\n",
      "|219979660438476| 1700000|       L1| 9.65|21406|    1|\n",
      "|220026727525505| 3000000|       L1|10.55|33629|    1|\n",
      "|220092579090369| 1300000|       L1| 10.3|17542|    1|\n",
      "|220093376850006| 5200000|       L1|10.65|59104|    1|\n",
      "|220099900482801| 6500000|       L1|  9.6|70049|    1|\n",
      "|220102481405313| 1438742|       L1|  9.4|12992|    1|\n",
      "|220131929380029| 1800000|       L1|  9.7|20178|    1|\n",
      "|220191972040356|  595000|       L1|10.55| 6041|    1|\n",
      "|220212029787928|  500000|       L1|  9.8| 8000|    1|\n",
      "|220213977916230| 1495000|       L1|  9.8|19965|    1|\n",
      "|220240123656190| 1150000|       L1|10.55|11676|    1|\n",
      "|220294304008538| 1140000|       L1|10.55|11583|    1|\n",
      "|220340244502407| 2150000|       L1|10.05|20000|    1|\n",
      "|220350024647833| 1300000|       L1| 10.3|12979|    1|\n",
      "|220352275273714| 7500000|       L1|  9.7|77415|    1|\n",
      "|220385465878694|  400000|       L1|10.55| 8648|    1|\n",
      "|220386271319648| 2500000|       L1|10.55|27636|    1|\n",
      "+---------------+--------+---------+-----+-----+-----+\n",
      "only showing top 20 rows\n",
      "\n"
     ]
    }
   ],
   "source": [
    "Action_Table_TCM_otherDetails = Action_Table_TCM.join(Action_Table,\"cust_id\",\"inner\")\n",
    "\n",
    "Action_Table_TCM_distinct = Action_Table_TCM_otherDetails.select(\"cust_id\",\"loan_amt\",\"loan_type\",\"roi\",\"emi\",\"count\") \\\n",
    "                                                         .where((col(\"action\")) == \"TCM\")\n",
    "                                                                       #.distinct()\n",
    "Action_Table_TCM_distinct.show()"
   ]
  },
  {
   "cell_type": "code",
   "execution_count": 112,
   "metadata": {},
   "outputs": [
    {
     "name": "stdout",
     "output_type": "stream",
     "text": [
      "+---------------+--------+---------+-----+-----+-----+\n",
      "|        cust_id|loan_amt|loan_type|  roi|  emi|count|\n",
      "+---------------+--------+---------+-----+-----+-----+\n",
      "|221236102604591| 3783860|       L1| 10.3|37524|    2|\n",
      "|221236102604591| 3783860|       L1|10.15|37524|    2|\n",
      "+---------------+--------+---------+-----+-----+-----+\n",
      "\n"
     ]
    }
   ],
   "source": [
    "Action_Table_TCM_distinct.select(\"*\").where(col(\"cust_id\") == 221236102604591).show()"
   ]
  },
  {
   "cell_type": "code",
   "execution_count": null,
   "metadata": {},
   "outputs": [],
   "source": []
  }
 ],
 "metadata": {
  "kernelspec": {
   "display_name": "Python 3",
   "language": "python",
   "name": "python3"
  },
  "language_info": {
   "codemirror_mode": {
    "name": "ipython",
    "version": 3
   },
   "file_extension": ".py",
   "mimetype": "text/x-python",
   "name": "python",
   "nbconvert_exporter": "python",
   "pygments_lexer": "ipython3",
   "version": "3.7.6"
  }
 },
 "nbformat": 4,
 "nbformat_minor": 4
}
